{
  "nbformat": 4,
  "nbformat_minor": 0,
  "metadata": {
    "colab": {
      "name": "Pandas Problem Set.ipynb",
      "version": "0.3.2",
      "provenance": [],
      "collapsed_sections": []
    },
    "kernelspec": {
      "name": "python3",
      "display_name": "Python 3"
    }
  },
  "cells": [
    {
      "metadata": {
        "id": "bSU6eKZTdMXZ",
        "colab_type": "text"
      },
      "cell_type": "markdown",
      "source": [
        "# Pandas Problem Set"
      ]
    },
    {
      "metadata": {
        "id": "c5ewTg7vdQFm",
        "colab_type": "code",
        "colab": {
          "base_uri": "https://localhost:8080/",
          "height": 17
        },
        "outputId": "a095aab8-b38b-4ad2-cdc9-7dfe26cc91cd"
      },
      "cell_type": "code",
      "source": [
        "import pandas as pd\n",
        "from google.colab import files\n",
        "import numpy as np\n",
        "import matplotlib.pyplot as plt"
      ],
      "execution_count": 5,
      "outputs": []
    },
    {
      "metadata": {
        "id": "MytzEzg-fyb7",
        "colab_type": "text"
      },
      "cell_type": "markdown",
      "source": [
        "### Dataset for tutorial and problem set:\n",
        "\n",
        "    Pima Indian Heritage Diabetes\n",
        "\n",
        "    Each person in the dataset is a female who is at least 21 years\n",
        "    \n",
        "  #### Below are the variables for each person in the dataset\n",
        "      'preg': number of pregnancies  \n",
        "      'plas': plasma glucose concentration \n",
        "      'pres': blood pressure \n",
        "      'skin': skin thickness\n",
        "      'test': Insluin\n",
        "      'mass': BMI\n",
        "      'pedi': diabetes pedigree function\n",
        "      'age': age\n",
        "      'class': '0' means does not have diabetes and '1' means has diabetes"
      ]
    },
    {
      "metadata": {
        "id": "F4btIg8vdSyb",
        "colab_type": "code",
        "colab": {
          "base_uri": "https://localhost:8080/",
          "height": 17
        },
        "outputId": "5e7e5177-53a3-4bfb-a700-5a652a602a3b"
      },
      "cell_type": "code",
      "source": [
        "url = \"https://raw.githubusercontent.com/jbrownlee/Datasets/master/pima-indians-diabetes.data.csv\"\n",
        "names = ['preg', 'plas', 'pres', 'skin', 'test', 'mass', 'pedi', 'age', 'class']"
      ],
      "execution_count": 3,
      "outputs": []
    },
    {
      "metadata": {
        "id": "QOLgFaSKeShR",
        "colab_type": "text"
      },
      "cell_type": "markdown",
      "source": [
        "Read in csv above to a pandas dataframe"
      ]
    },
    {
      "metadata": {
        "id": "Okcb8dnXeX2C",
        "colab_type": "code",
        "colab": {
          "base_uri": "https://localhost:8080/",
          "height": 17
        },
        "outputId": "097805e5-1bd2-4823-d149-29318b22497b"
      },
      "cell_type": "code",
      "source": [
        "data = pd.read_csv(url, names=names)"
      ],
      "execution_count": 45,
      "outputs": []
    },
    {
      "metadata": {
        "id": "d4DyOsuoewE2",
        "colab_type": "text"
      },
      "cell_type": "markdown",
      "source": [
        "Print out the age and class of the 100th patient"
      ]
    },
    {
      "metadata": {
        "id": "xZqBsg39eY8_",
        "colab_type": "code",
        "colab": {
          "base_uri": "https://localhost:8080/",
          "height": 68
        },
        "outputId": "78232ddd-b45d-4680-e71c-183a10a3fa67"
      },
      "cell_type": "code",
      "source": [
        "data.loc[99, 'age':'class']"
      ],
      "execution_count": 43,
      "outputs": [
        {
          "output_type": "execute_result",
          "data": {
            "text/plain": [
              "age      31.0\n",
              "class     1.0\n",
              "Name: 99, dtype: float64"
            ]
          },
          "metadata": {
            "tags": []
          },
          "execution_count": 43
        }
      ]
    },
    {
      "metadata": {
        "id": "j8L2EM-5iOWc",
        "colab_type": "text"
      },
      "cell_type": "markdown",
      "source": [
        "Write code to figure out how many people are classified as not having diabetes, class is 1"
      ]
    },
    {
      "metadata": {
        "id": "vohzS51WiWvD",
        "colab_type": "code",
        "colab": {
          "base_uri": "https://localhost:8080/",
          "height": 34
        },
        "outputId": "4d3b4b84-21b4-4586-9a3d-f43d7660601d"
      },
      "cell_type": "code",
      "source": [
        "str(len(data[(data['class'] == 1)]))"
      ],
      "execution_count": 21,
      "outputs": [
        {
          "output_type": "execute_result",
          "data": {
            "text/plain": [
              "'268'"
            ]
          },
          "metadata": {
            "tags": []
          },
          "execution_count": 21
        }
      ]
    },
    {
      "metadata": {
        "id": "ieGRz4iiiX4E",
        "colab_type": "text"
      },
      "cell_type": "markdown",
      "source": [
        "Write code to figure out how many people are classified as having diabetes, class is 0"
      ]
    },
    {
      "metadata": {
        "id": "-jq2O-vriXRT",
        "colab_type": "code",
        "colab": {
          "base_uri": "https://localhost:8080/",
          "height": 34
        },
        "outputId": "83d78c28-a967-41a2-ba67-993f04593120"
      },
      "cell_type": "code",
      "source": [
        "str(len(data[(data['class'] == 0)]))"
      ],
      "execution_count": 22,
      "outputs": [
        {
          "output_type": "execute_result",
          "data": {
            "text/plain": [
              "'500'"
            ]
          },
          "metadata": {
            "tags": []
          },
          "execution_count": 22
        }
      ]
    },
    {
      "metadata": {
        "id": "oeFT7T9OnuSd",
        "colab_type": "text"
      },
      "cell_type": "markdown",
      "source": [
        "What percent of people have diabetes in the study"
      ]
    },
    {
      "metadata": {
        "id": "zGGHptFYnwq0",
        "colab_type": "code",
        "colab": {
          "base_uri": "https://localhost:8080/",
          "height": 34
        },
        "outputId": "3ac7c660-a130-4d74-a933-dc2205ad3d35"
      },
      "cell_type": "code",
      "source": [
        "str(len(data[(data['class'] == 1)]) / len(data) * 100) + '%'"
      ],
      "execution_count": 46,
      "outputs": [
        {
          "output_type": "execute_result",
          "data": {
            "text/plain": [
              "'34.89583333333333%'"
            ]
          },
          "metadata": {
            "tags": []
          },
          "execution_count": 46
        }
      ]
    },
    {
      "metadata": {
        "id": "nbrjnRPafs0p",
        "colab_type": "text"
      },
      "cell_type": "markdown",
      "source": [
        "Print out the pressure and class (no other columns) for the first 5 people\n",
        "\n",
        "hint: this was not shown in our tutorial google how to select multiple columns with loc\n",
        "\n",
        "Being able to effectively google is a very important coding tool"
      ]
    },
    {
      "metadata": {
        "id": "GiNCJ19KfHJQ",
        "colab_type": "code",
        "colab": {
          "base_uri": "https://localhost:8080/",
          "height": 204
        },
        "outputId": "96b4825b-2de1-4495-b3e0-c86a8e2ba62c"
      },
      "cell_type": "code",
      "source": [
        "data.loc[0:4, ['pres', 'class']]"
      ],
      "execution_count": 47,
      "outputs": [
        {
          "output_type": "execute_result",
          "data": {
            "text/html": [
              "<div>\n",
              "<style scoped>\n",
              "    .dataframe tbody tr th:only-of-type {\n",
              "        vertical-align: middle;\n",
              "    }\n",
              "\n",
              "    .dataframe tbody tr th {\n",
              "        vertical-align: top;\n",
              "    }\n",
              "\n",
              "    .dataframe thead th {\n",
              "        text-align: right;\n",
              "    }\n",
              "</style>\n",
              "<table border=\"1\" class=\"dataframe\">\n",
              "  <thead>\n",
              "    <tr style=\"text-align: right;\">\n",
              "      <th></th>\n",
              "      <th>pres</th>\n",
              "      <th>class</th>\n",
              "    </tr>\n",
              "  </thead>\n",
              "  <tbody>\n",
              "    <tr>\n",
              "      <th>0</th>\n",
              "      <td>72</td>\n",
              "      <td>1</td>\n",
              "    </tr>\n",
              "    <tr>\n",
              "      <th>1</th>\n",
              "      <td>66</td>\n",
              "      <td>0</td>\n",
              "    </tr>\n",
              "    <tr>\n",
              "      <th>2</th>\n",
              "      <td>64</td>\n",
              "      <td>1</td>\n",
              "    </tr>\n",
              "    <tr>\n",
              "      <th>3</th>\n",
              "      <td>66</td>\n",
              "      <td>0</td>\n",
              "    </tr>\n",
              "    <tr>\n",
              "      <th>4</th>\n",
              "      <td>40</td>\n",
              "      <td>1</td>\n",
              "    </tr>\n",
              "  </tbody>\n",
              "</table>\n",
              "</div>"
            ],
            "text/plain": [
              "   pres  class\n",
              "0    72      1\n",
              "1    66      0\n",
              "2    64      1\n",
              "3    66      0\n",
              "4    40      1"
            ]
          },
          "metadata": {
            "tags": []
          },
          "execution_count": 47
        }
      ]
    },
    {
      "metadata": {
        "id": "O-CcsoqlhxUn",
        "colab_type": "text"
      },
      "cell_type": "markdown",
      "source": [
        "Run the cell below, it will print out the correlation among the columns"
      ]
    },
    {
      "metadata": {
        "id": "pXpVFt6MffQt",
        "colab_type": "code",
        "colab": {
          "base_uri": "https://localhost:8080/",
          "height": 328
        },
        "outputId": "07ca871d-94e8-46d0-c834-3e5cd4a76663"
      },
      "cell_type": "code",
      "source": [
        "data.corr()"
      ],
      "execution_count": 27,
      "outputs": [
        {
          "output_type": "execute_result",
          "data": {
            "text/html": [
              "<div>\n",
              "<style scoped>\n",
              "    .dataframe tbody tr th:only-of-type {\n",
              "        vertical-align: middle;\n",
              "    }\n",
              "\n",
              "    .dataframe tbody tr th {\n",
              "        vertical-align: top;\n",
              "    }\n",
              "\n",
              "    .dataframe thead th {\n",
              "        text-align: right;\n",
              "    }\n",
              "</style>\n",
              "<table border=\"1\" class=\"dataframe\">\n",
              "  <thead>\n",
              "    <tr style=\"text-align: right;\">\n",
              "      <th></th>\n",
              "      <th>preg</th>\n",
              "      <th>plas</th>\n",
              "      <th>pres</th>\n",
              "      <th>skin</th>\n",
              "      <th>test</th>\n",
              "      <th>mass</th>\n",
              "      <th>pedi</th>\n",
              "      <th>age</th>\n",
              "      <th>class</th>\n",
              "    </tr>\n",
              "  </thead>\n",
              "  <tbody>\n",
              "    <tr>\n",
              "      <th>preg</th>\n",
              "      <td>1.000000</td>\n",
              "      <td>0.129459</td>\n",
              "      <td>0.141282</td>\n",
              "      <td>-0.081672</td>\n",
              "      <td>-0.073535</td>\n",
              "      <td>0.017683</td>\n",
              "      <td>-0.033523</td>\n",
              "      <td>0.544341</td>\n",
              "      <td>0.221898</td>\n",
              "    </tr>\n",
              "    <tr>\n",
              "      <th>plas</th>\n",
              "      <td>0.129459</td>\n",
              "      <td>1.000000</td>\n",
              "      <td>0.152590</td>\n",
              "      <td>0.057328</td>\n",
              "      <td>0.331357</td>\n",
              "      <td>0.221071</td>\n",
              "      <td>0.137337</td>\n",
              "      <td>0.263514</td>\n",
              "      <td>0.466581</td>\n",
              "    </tr>\n",
              "    <tr>\n",
              "      <th>pres</th>\n",
              "      <td>0.141282</td>\n",
              "      <td>0.152590</td>\n",
              "      <td>1.000000</td>\n",
              "      <td>0.207371</td>\n",
              "      <td>0.088933</td>\n",
              "      <td>0.281805</td>\n",
              "      <td>0.041265</td>\n",
              "      <td>0.239528</td>\n",
              "      <td>0.065068</td>\n",
              "    </tr>\n",
              "    <tr>\n",
              "      <th>skin</th>\n",
              "      <td>-0.081672</td>\n",
              "      <td>0.057328</td>\n",
              "      <td>0.207371</td>\n",
              "      <td>1.000000</td>\n",
              "      <td>0.436783</td>\n",
              "      <td>0.392573</td>\n",
              "      <td>0.183928</td>\n",
              "      <td>-0.113970</td>\n",
              "      <td>0.074752</td>\n",
              "    </tr>\n",
              "    <tr>\n",
              "      <th>test</th>\n",
              "      <td>-0.073535</td>\n",
              "      <td>0.331357</td>\n",
              "      <td>0.088933</td>\n",
              "      <td>0.436783</td>\n",
              "      <td>1.000000</td>\n",
              "      <td>0.197859</td>\n",
              "      <td>0.185071</td>\n",
              "      <td>-0.042163</td>\n",
              "      <td>0.130548</td>\n",
              "    </tr>\n",
              "    <tr>\n",
              "      <th>mass</th>\n",
              "      <td>0.017683</td>\n",
              "      <td>0.221071</td>\n",
              "      <td>0.281805</td>\n",
              "      <td>0.392573</td>\n",
              "      <td>0.197859</td>\n",
              "      <td>1.000000</td>\n",
              "      <td>0.140647</td>\n",
              "      <td>0.036242</td>\n",
              "      <td>0.292695</td>\n",
              "    </tr>\n",
              "    <tr>\n",
              "      <th>pedi</th>\n",
              "      <td>-0.033523</td>\n",
              "      <td>0.137337</td>\n",
              "      <td>0.041265</td>\n",
              "      <td>0.183928</td>\n",
              "      <td>0.185071</td>\n",
              "      <td>0.140647</td>\n",
              "      <td>1.000000</td>\n",
              "      <td>0.033561</td>\n",
              "      <td>0.173844</td>\n",
              "    </tr>\n",
              "    <tr>\n",
              "      <th>age</th>\n",
              "      <td>0.544341</td>\n",
              "      <td>0.263514</td>\n",
              "      <td>0.239528</td>\n",
              "      <td>-0.113970</td>\n",
              "      <td>-0.042163</td>\n",
              "      <td>0.036242</td>\n",
              "      <td>0.033561</td>\n",
              "      <td>1.000000</td>\n",
              "      <td>0.238356</td>\n",
              "    </tr>\n",
              "    <tr>\n",
              "      <th>class</th>\n",
              "      <td>0.221898</td>\n",
              "      <td>0.466581</td>\n",
              "      <td>0.065068</td>\n",
              "      <td>0.074752</td>\n",
              "      <td>0.130548</td>\n",
              "      <td>0.292695</td>\n",
              "      <td>0.173844</td>\n",
              "      <td>0.238356</td>\n",
              "      <td>1.000000</td>\n",
              "    </tr>\n",
              "  </tbody>\n",
              "</table>\n",
              "</div>"
            ],
            "text/plain": [
              "           preg      plas      pres      skin      test      mass      pedi  \\\n",
              "preg   1.000000  0.129459  0.141282 -0.081672 -0.073535  0.017683 -0.033523   \n",
              "plas   0.129459  1.000000  0.152590  0.057328  0.331357  0.221071  0.137337   \n",
              "pres   0.141282  0.152590  1.000000  0.207371  0.088933  0.281805  0.041265   \n",
              "skin  -0.081672  0.057328  0.207371  1.000000  0.436783  0.392573  0.183928   \n",
              "test  -0.073535  0.331357  0.088933  0.436783  1.000000  0.197859  0.185071   \n",
              "mass   0.017683  0.221071  0.281805  0.392573  0.197859  1.000000  0.140647   \n",
              "pedi  -0.033523  0.137337  0.041265  0.183928  0.185071  0.140647  1.000000   \n",
              "age    0.544341  0.263514  0.239528 -0.113970 -0.042163  0.036242  0.033561   \n",
              "class  0.221898  0.466581  0.065068  0.074752  0.130548  0.292695  0.173844   \n",
              "\n",
              "            age     class  \n",
              "preg   0.544341  0.221898  \n",
              "plas   0.263514  0.466581  \n",
              "pres   0.239528  0.065068  \n",
              "skin  -0.113970  0.074752  \n",
              "test  -0.042163  0.130548  \n",
              "mass   0.036242  0.292695  \n",
              "pedi   0.033561  0.173844  \n",
              "age    1.000000  0.238356  \n",
              "class  0.238356  1.000000  "
            ]
          },
          "metadata": {
            "tags": []
          },
          "execution_count": 27
        }
      ]
    },
    {
      "metadata": {
        "id": "P_7xRF11h4Uf",
        "colab_type": "text"
      },
      "cell_type": "markdown",
      "source": [
        "What column has the highest correlation with class? Find the mean() value of that column"
      ]
    },
    {
      "metadata": {
        "id": "clb2Gh8Mn9d4",
        "colab_type": "code",
        "colab": {
          "base_uri": "https://localhost:8080/",
          "height": 34
        },
        "outputId": "6e9bfec4-1ad1-4278-efd8-eb641872d8ee"
      },
      "cell_type": "code",
      "source": [
        "data['plas'].mean()"
      ],
      "execution_count": 28,
      "outputs": [
        {
          "output_type": "execute_result",
          "data": {
            "text/plain": [
              "120.89453125"
            ]
          },
          "metadata": {
            "tags": []
          },
          "execution_count": 28
        }
      ]
    },
    {
      "metadata": {
        "id": "64yWhAARoWw-",
        "colab_type": "text"
      },
      "cell_type": "markdown",
      "source": [
        "Create a new dataframe with only people that are above the mean found above"
      ]
    },
    {
      "metadata": {
        "id": "HRLjs3agkdPY",
        "colab_type": "code",
        "colab": {
          "base_uri": "https://localhost:8080/",
          "height": 17
        },
        "outputId": "beace20d-8e04-4a69-8fd6-5f0d8afe1a17"
      },
      "cell_type": "code",
      "source": [
        "data = data[(data['plas'] > data['plas'].mean())]"
      ],
      "execution_count": 30,
      "outputs": []
    },
    {
      "metadata": {
        "id": "VvUV0lrRmiB7",
        "colab_type": "text"
      },
      "cell_type": "markdown",
      "source": [
        "What percent of the new dataframe have diabetes"
      ]
    },
    {
      "metadata": {
        "id": "tx3x0WsFl3ya",
        "colab_type": "code",
        "colab": {
          "base_uri": "https://localhost:8080/",
          "height": 34
        },
        "outputId": "5e50d716-9d22-4581-ce9e-d82909919b50"
      },
      "cell_type": "code",
      "source": [
        "str(len(data[(data['class'] == 1)]) / len(data) * 100) + '%'"
      ],
      "execution_count": 32,
      "outputs": [
        {
          "output_type": "execute_result",
          "data": {
            "text/plain": [
              "'55.873925501432666%'"
            ]
          },
          "metadata": {
            "tags": []
          },
          "execution_count": 32
        }
      ]
    },
    {
      "metadata": {
        "id": "RxGIQp0JrUnq",
        "colab_type": "text"
      },
      "cell_type": "markdown",
      "source": [
        "Create a new dataframe that only includes people who are above the average value for each column in the dataset (except 'class'). In other words, find the average value for each column, and then find which users have values above all of these average column values"
      ]
    },
    {
      "metadata": {
        "id": "Ylf4p6NNrfME",
        "colab_type": "code",
        "colab": {
          "base_uri": "https://localhost:8080/",
          "height": 9809
        },
        "outputId": "49f4f19e-5a65-4130-ba23-340a332e61e9"
      },
      "cell_type": "code",
      "source": [
        "for column in data.columns[:9]:\n",
        "  print(data[(data[column] > data[column].mean())])\n",
        "  "
      ],
      "execution_count": 42,
      "outputs": [
        {
          "output_type": "stream",
          "text": [
            "     preg  plas  pres  skin  test  mass   pedi  age  class\n",
            "0       6   148    72    35     0  33.6  0.627   50      1\n",
            "2       8   183    64     0     0  23.3  0.672   32      1\n",
            "9       8   125    96     0     0   0.0  0.232   54      1\n",
            "11     10   168    74     0     0  38.0  0.537   34      1\n",
            "12     10   139    80     0     0  27.1  1.441   57      0\n",
            "14      5   166    72    19   175  25.8  0.587   51      1\n",
            "22      7   196    90     0     0  39.8  0.451   41      1\n",
            "24     11   143    94    33   146  36.6  0.254   51      1\n",
            "25     10   125    70    26   115  31.1  0.205   41      1\n",
            "26      7   147    76     0     0  39.4  0.257   43      1\n",
            "28     13   145    82    19   110  22.2  0.245   57      0\n",
            "34     10   122    78    31     0  27.6  0.512   45      0\n",
            "36     11   138    76     0     0  33.2  0.420   35      0\n",
            "41      7   133    84     0     0  40.2  0.696   37      0\n",
            "43      9   171   110    24   240  45.4  0.721   54      1\n",
            "44      7   159    64     0     0  27.4  0.294   40      0\n",
            "53      8   176    90    34   300  33.7  0.467   58      1\n",
            "54      7   150    66    42   342  34.7  0.718   42      0\n",
            "56      7   187    68    39   304  37.7  0.254   41      1\n",
            "61      8   133    72     0     0  32.9  0.270   39      1\n",
            "71      5   139    64    35   140  28.6  0.411   26      0\n",
            "72     13   126    90     0     0  43.4  0.583   42      1\n",
            "84      5   137   108     0     0  48.8  0.227   37      1\n",
            "88     15   136    70    32   110  37.1  0.153   43      1\n",
            "95      6   144    72    27   228  33.9  0.255   40      0\n",
            "111     8   155    62    26   495  34.0  0.543   46      1\n",
            "114     7   160    54    32   175  30.5  0.588   39      1\n",
            "116     5   124    74     0     0  34.0  0.220   38      1\n",
            "123     5   132    80     0     0  26.8  0.186   69      0\n",
            "131     9   122    56     0     0  33.3  1.114   33      1\n",
            "..    ...   ...   ...   ...   ...   ...    ...  ...    ...\n",
            "622     6   183    94     0     0  40.8  1.461   45      0\n",
            "628     5   128    80     0     0  34.6  0.144   45      0\n",
            "642     6   147    80     0     0  29.5  0.178   50      1\n",
            "648    11   136    84    35   130  28.3  0.260   42      1\n",
            "652     5   123    74    40    77  34.1  0.269   28      0\n",
            "658    11   127   106     0     0  39.0  0.190   51      0\n",
            "660    10   162    84     0     0  27.7  0.182   54      0\n",
            "662     8   167   106    46   231  37.6  0.165   43      1\n",
            "663     9   145    80    46   130  37.9  0.637   40      1\n",
            "669     9   154    78    30   100  30.9  0.164   45      0\n",
            "670     6   165    68    26   168  33.6  0.631   49      0\n",
            "675     6   195    70     0     0  30.9  0.328   31      1\n",
            "676     9   156    86     0     0  24.8  0.230   53      1\n",
            "684     5   136    82     0     0   0.0  0.640   69      0\n",
            "691    13   158   114     0     0  42.3  0.257   44      1\n",
            "693     7   129    68    49   125  38.5  0.439   43      1\n",
            "695     7   142    90    24   480  30.4  0.128   43      1\n",
            "701     6   125    78    31     0  27.6  0.565   49      1\n",
            "708     9   164    78     0     0  32.8  0.148   45      1\n",
            "711     5   126    78    27    22  29.6  0.439   40      0\n",
            "712    10   129    62    36     0  41.2  0.441   38      1\n",
            "715     7   187    50    33   392  33.9  0.826   34      1\n",
            "743     9   140    94     0     0  32.7  0.734   45      1\n",
            "744    13   153    88    37   140  40.6  1.174   39      0\n",
            "749     6   162    62     0     0  24.3  0.178   50      1\n",
            "754     8   154    78    32     0  32.4  0.443   45      1\n",
            "756     7   137    90    41     0  32.0  0.391   39      0\n",
            "759     6   190    92     0     0  35.5  0.278   66      1\n",
            "761     9   170    74    31     0  44.0  0.403   43      1\n",
            "765     5   121    72    23   112  26.2  0.245   30      0\n",
            "\n",
            "[145 rows x 9 columns]\n",
            "     preg  plas  pres  skin  test  mass   pedi  age  class\n",
            "2       8   183    64     0     0  23.3  0.672   32      1\n",
            "8       2   197    70    45   543  30.5  0.158   53      1\n",
            "11     10   168    74     0     0  38.0  0.537   34      1\n",
            "13      1   189    60    23   846  30.1  0.398   59      1\n",
            "14      5   166    72    19   175  25.8  0.587   51      1\n",
            "22      7   196    90     0     0  39.8  0.451   41      1\n",
            "31      3   158    76    36   245  31.6  0.851   28      1\n",
            "40      3   180    64    25    70  34.0  0.271   26      0\n",
            "43      9   171   110    24   240  45.4  0.721   54      1\n",
            "44      7   159    64     0     0  27.4  0.294   40      0\n",
            "45      0   180    66    39     0  42.0  1.893   25      1\n",
            "53      8   176    90    34   300  33.7  0.467   58      1\n",
            "54      7   150    66    42   342  34.7  0.718   42      0\n",
            "56      7   187    68    39   304  37.7  0.254   41      1\n",
            "100     1   163    72     0     0  39.0  1.222   33      1\n",
            "101     1   151    60     0     0  26.1  0.179   22      0\n",
            "110     3   171    72    33   135  33.3  0.199   24      1\n",
            "111     8   155    62    26   495  34.0  0.543   46      1\n",
            "114     7   160    54    32   175  30.5  0.588   39      1\n",
            "120     0   162    76    56   100  53.2  0.759   25      1\n",
            "130     4   173    70    14   168  29.7  0.361   33      1\n",
            "132     3   170    64    37   225  34.5  0.356   30      1\n",
            "144     4   154    62    31   284  32.8  0.237   23      0\n",
            "152     9   156    86    28   155  34.3  1.189   42      1\n",
            "153     1   153    82    42   485  40.6  0.687   23      0\n",
            "154     8   188    78     0     0  47.9  0.137   43      1\n",
            "155     7   152    88    44     0  50.0  0.337   36      1\n",
            "159    17   163    72    41   114  40.9  0.817   47      1\n",
            "160     4   151    90    38     0  29.7  0.294   36      0\n",
            "175     8   179    72    42   130  32.7  0.719   36      1\n",
            "..    ...   ...   ...   ...   ...   ...    ...  ...    ...\n",
            "622     6   183    94     0     0  40.8  1.461   45      0\n",
            "645     2   157    74    35   440  39.4  0.134   30      0\n",
            "646     1   167    74    17   144  23.4  0.447   33      1\n",
            "647     0   179    50    36   159  37.8  0.455   22      1\n",
            "655     2   155    52    27   540  38.7  0.240   25      1\n",
            "660    10   162    84     0     0  27.7  0.182   54      0\n",
            "661     1   199    76    43     0  42.9  1.394   22      1\n",
            "662     8   167   106    46   231  37.6  0.165   43      1\n",
            "669     9   154    78    30   100  30.9  0.164   45      0\n",
            "670     6   165    68    26   168  33.6  0.631   49      0\n",
            "675     6   195    70     0     0  30.9  0.328   31      1\n",
            "676     9   156    86     0     0  24.8  0.230   53      1\n",
            "681     0   162    76    36     0  49.6  0.364   26      1\n",
            "691    13   158   114     0     0  42.3  0.257   44      1\n",
            "696     3   169    74    19   125  29.9  0.268   31      1\n",
            "702     1   168    88    29     0  35.0  0.905   52      1\n",
            "708     9   164    78     0     0  32.8  0.148   45      1\n",
            "710     3   158    64    13   387  31.2  0.295   24      0\n",
            "715     7   187    50    33   392  33.9  0.826   34      1\n",
            "716     3   173    78    39   185  33.8  0.970   31      1\n",
            "722     1   149    68    29   127  29.3  0.349   42      1\n",
            "728     2   175    88     0     0  22.9  0.326   22      0\n",
            "732     2   174    88    37   120  44.5  0.646   24      1\n",
            "744    13   153    88    37   140  40.6  1.174   39      0\n",
            "748     3   187    70    22   200  36.4  0.408   36      1\n",
            "749     6   162    62     0     0  24.3  0.178   50      1\n",
            "753     0   181    88    44   510  43.3  0.222   26      1\n",
            "754     8   154    78    32     0  32.4  0.443   45      1\n",
            "759     6   190    92     0     0  35.5  0.278   66      1\n",
            "761     9   170    74    31     0  44.0  0.403   43      1\n",
            "\n",
            "[144 rows x 9 columns]\n",
            "     preg  plas  pres  skin  test  mass   pedi  age  class\n",
            "9       8   125    96     0     0   0.0  0.232   54      1\n",
            "11     10   168    74     0     0  38.0  0.537   34      1\n",
            "12     10   139    80     0     0  27.1  1.441   57      0\n",
            "20      3   126    88    41   235  39.3  0.704   27      0\n",
            "22      7   196    90     0     0  39.8  0.451   41      1\n",
            "24     11   143    94    33   146  36.6  0.254   51      1\n",
            "26      7   147    76     0     0  39.4  0.257   43      1\n",
            "28     13   145    82    19   110  22.2  0.245   57      0\n",
            "31      3   158    76    36   245  31.6  0.851   28      1\n",
            "34     10   122    78    31     0  27.6  0.512   45      0\n",
            "36     11   138    76     0     0  33.2  0.420   35      0\n",
            "41      7   133    84     0     0  40.2  0.696   37      0\n",
            "43      9   171   110    24   240  45.4  0.721   54      1\n",
            "53      8   176    90    34   300  33.7  0.467   58      1\n",
            "58      0   146    82     0     0  40.5  1.781   44      0\n",
            "69      4   146    85    27   100  28.9  0.189   27      0\n",
            "72     13   126    90     0     0  43.4  0.583   42      1\n",
            "73      4   129    86    20   270  35.1  0.231   23      0\n",
            "84      5   137   108     0     0  48.8  0.227   37      1\n",
            "91      4   123    80    15   176  32.0  0.443   34      0\n",
            "94      2   142    82    18    64  24.7  0.761   21      0\n",
            "99      1   122    90    51   220  49.7  0.325   31      1\n",
            "102     0   125    96     0     0  22.5  0.262   21      0\n",
            "115     4   146    92     0     0  31.2  0.539   61      1\n",
            "116     5   124    74     0     0  34.0  0.220   38      1\n",
            "120     0   162    76    56   100  53.2  0.759   25      1\n",
            "123     5   132    80     0     0  26.8  0.186   69      0\n",
            "138     0   129    80     0     0  31.2  0.703   29      0\n",
            "140     3   128    78     0     0  21.1  0.268   55      0\n",
            "148     5   147    78     0     0  33.7  0.218   65      0\n",
            "..    ...   ...   ...   ...   ...   ...    ...  ...    ...\n",
            "683     4   125    80     0     0  32.3  0.536   27      1\n",
            "684     5   136    82     0     0   0.0  0.640   69      0\n",
            "685     2   129    74    26   205  33.2  0.591   25      0\n",
            "688     1   140    74    26   180  24.1  0.828   23      0\n",
            "689     1   144    82    46   180  46.1  0.335   46      1\n",
            "691    13   158   114     0     0  42.3  0.257   44      1\n",
            "695     7   142    90    24   480  30.4  0.128   43      1\n",
            "696     3   169    74    19   125  29.9  0.268   31      1\n",
            "698     4   127    88    11   155  34.5  0.598   28      0\n",
            "700     2   122    76    27   200  35.9  0.483   26      0\n",
            "701     6   125    78    31     0  27.6  0.565   49      1\n",
            "702     1   168    88    29     0  35.0  0.905   52      1\n",
            "708     9   164    78     0     0  32.8  0.148   45      1\n",
            "711     5   126    78    27    22  29.6  0.439   40      0\n",
            "716     3   173    78    39   185  33.8  0.970   31      1\n",
            "727     0   141    84    26     0  32.4  0.433   22      0\n",
            "728     2   175    88     0     0  22.9  0.326   22      0\n",
            "730     3   130    78    23    79  28.4  0.323   34      1\n",
            "732     2   174    88    37   120  44.5  0.646   24      1\n",
            "736     0   126    86    27   120  27.4  0.515   21      0\n",
            "743     9   140    94     0     0  32.7  0.734   45      1\n",
            "744    13   153    88    37   140  40.6  1.174   39      0\n",
            "746     1   147    94    41     0  49.3  0.358   27      1\n",
            "751     1   121    78    39    74  39.0  0.261   28      0\n",
            "753     0   181    88    44   510  43.3  0.222   26      1\n",
            "754     8   154    78    32     0  32.4  0.443   45      1\n",
            "755     1   128    88    39   110  36.5  1.057   37      1\n",
            "756     7   137    90    41     0  32.0  0.391   39      0\n",
            "759     6   190    92     0     0  35.5  0.278   66      1\n",
            "761     9   170    74    31     0  44.0  0.403   43      1\n",
            "\n",
            "[195 rows x 9 columns]\n",
            "     preg  plas  pres  skin  test  mass   pedi  age  class\n",
            "0       6   148    72    35     0  33.6  0.627   50      1\n",
            "4       0   137    40    35   168  43.1  2.288   33      1\n",
            "8       2   197    70    45   543  30.5  0.158   53      1\n",
            "13      1   189    60    23   846  30.1  0.398   59      1\n",
            "20      3   126    88    41   235  39.3  0.704   27      0\n",
            "24     11   143    94    33   146  36.6  0.254   51      1\n",
            "25     10   125    70    26   115  31.1  0.205   41      1\n",
            "31      3   158    76    36   245  31.6  0.851   28      1\n",
            "34     10   122    78    31     0  27.6  0.512   45      0\n",
            "40      3   180    64    25    70  34.0  0.271   26      0\n",
            "43      9   171   110    24   240  45.4  0.721   54      1\n",
            "45      0   180    66    39     0  42.0  1.893   25      1\n",
            "53      8   176    90    34   300  33.7  0.467   58      1\n",
            "54      7   150    66    42   342  34.7  0.718   42      0\n",
            "56      7   187    68    39   304  37.7  0.254   41      1\n",
            "63      2   141    58    34   128  25.4  0.699   24      0\n",
            "69      4   146    85    27   100  28.9  0.189   27      0\n",
            "71      5   139    64    35   140  28.6  0.411   26      0\n",
            "88     15   136    70    32   110  37.1  0.153   43      1\n",
            "95      6   144    72    27   228  33.9  0.255   40      0\n",
            "99      1   122    90    51   220  49.7  0.325   31      1\n",
            "105     1   126    56    29   152  28.7  0.801   21      0\n",
            "107     4   144    58    28   140  29.5  0.287   37      0\n",
            "110     3   171    72    33   135  33.3  0.199   24      1\n",
            "111     8   155    62    26   495  34.0  0.543   46      1\n",
            "114     7   160    54    32   175  30.5  0.588   39      1\n",
            "120     0   162    76    56   100  53.2  0.759   25      1\n",
            "132     3   170    64    37   225  34.5  0.356   30      1\n",
            "144     4   154    62    31   284  32.8  0.237   23      0\n",
            "150     1   136    74    50   204  37.4  0.399   24      0\n",
            "..    ...   ...   ...   ...   ...   ...    ...  ...    ...\n",
            "681     0   162    76    36     0  49.6  0.364   26      1\n",
            "685     2   129    74    26   205  33.2  0.591   25      0\n",
            "688     1   140    74    26   180  24.1  0.828   23      0\n",
            "689     1   144    82    46   180  46.1  0.335   46      1\n",
            "692     2   121    70    32    95  39.1  0.886   23      0\n",
            "693     7   129    68    49   125  38.5  0.439   43      1\n",
            "695     7   142    90    24   480  30.4  0.128   43      1\n",
            "700     2   122    76    27   200  35.9  0.483   26      0\n",
            "701     6   125    78    31     0  27.6  0.565   49      1\n",
            "702     1   168    88    29     0  35.0  0.905   52      1\n",
            "711     5   126    78    27    22  29.6  0.439   40      0\n",
            "712    10   129    62    36     0  41.2  0.441   38      1\n",
            "715     7   187    50    33   392  33.9  0.826   34      1\n",
            "716     3   173    78    39   185  33.8  0.970   31      1\n",
            "722     1   149    68    29   127  29.3  0.349   42      1\n",
            "727     0   141    84    26     0  32.4  0.433   22      0\n",
            "730     3   130    78    23    79  28.4  0.323   34      1\n",
            "732     2   174    88    37   120  44.5  0.646   24      1\n",
            "736     0   126    86    27   120  27.4  0.515   21      0\n",
            "744    13   153    88    37   140  40.6  1.174   39      0\n",
            "746     1   147    94    41     0  49.3  0.358   27      1\n",
            "748     3   187    70    22   200  36.4  0.408   36      1\n",
            "751     1   121    78    39    74  39.0  0.261   28      0\n",
            "753     0   181    88    44   510  43.3  0.222   26      1\n",
            "754     8   154    78    32     0  32.4  0.443   45      1\n",
            "755     1   128    88    39   110  36.5  1.057   37      1\n",
            "756     7   137    90    41     0  32.0  0.391   39      0\n",
            "761     9   170    74    31     0  44.0  0.403   43      1\n",
            "764     2   122    70    27     0  36.8  0.340   27      0\n",
            "765     5   121    72    23   112  26.2  0.245   30      0\n",
            "\n",
            "[196 rows x 9 columns]\n",
            "     preg  plas  pres  skin  test  mass   pedi  age  class\n",
            "4       0   137    40    35   168  43.1  2.288   33      1\n",
            "8       2   197    70    45   543  30.5  0.158   53      1\n",
            "13      1   189    60    23   846  30.1  0.398   59      1\n",
            "14      5   166    72    19   175  25.8  0.587   51      1\n",
            "20      3   126    88    41   235  39.3  0.704   27      0\n",
            "24     11   143    94    33   146  36.6  0.254   51      1\n",
            "31      3   158    76    36   245  31.6  0.851   28      1\n",
            "43      9   171   110    24   240  45.4  0.721   54      1\n",
            "53      8   176    90    34   300  33.7  0.467   58      1\n",
            "54      7   150    66    42   342  34.7  0.718   42      0\n",
            "56      7   187    68    39   304  37.7  0.254   41      1\n",
            "63      2   141    58    34   128  25.4  0.699   24      0\n",
            "71      5   139    64    35   140  28.6  0.411   26      0\n",
            "73      4   129    86    20   270  35.1  0.231   23      0\n",
            "91      4   123    80    15   176  32.0  0.443   34      0\n",
            "95      6   144    72    27   228  33.9  0.255   40      0\n",
            "99      1   122    90    51   220  49.7  0.325   31      1\n",
            "105     1   126    56    29   152  28.7  0.801   21      0\n",
            "107     4   144    58    28   140  29.5  0.287   37      0\n",
            "110     3   171    72    33   135  33.3  0.199   24      1\n",
            "111     8   155    62    26   495  34.0  0.543   46      1\n",
            "114     7   160    54    32   175  30.5  0.588   39      1\n",
            "130     4   173    70    14   168  29.7  0.361   33      1\n",
            "132     3   170    64    37   225  34.5  0.356   30      1\n",
            "135     2   125    60    20   140  33.8  0.088   31      0\n",
            "144     4   154    62    31   284  32.8  0.237   23      0\n",
            "150     1   136    74    50   204  37.4  0.399   24      0\n",
            "152     9   156    86    28   155  34.3  1.189   42      1\n",
            "153     1   153    82    42   485  40.6  0.687   23      0\n",
            "171     6   134    70    23   130  35.4  0.542   29      1\n",
            "..    ...   ...   ...   ...   ...   ...    ...  ...    ...\n",
            "614    11   138    74    26   144  36.1  0.557   50      1\n",
            "633     1   128    82    17   183  27.5  0.115   22      0\n",
            "645     2   157    74    35   440  39.4  0.134   30      0\n",
            "646     1   167    74    17   144  23.4  0.447   33      1\n",
            "647     0   179    50    36   159  37.8  0.455   22      1\n",
            "648    11   136    84    35   130  28.3  0.260   42      1\n",
            "655     2   155    52    27   540  38.7  0.240   25      1\n",
            "662     8   167   106    46   231  37.6  0.165   43      1\n",
            "663     9   145    80    46   130  37.9  0.637   40      1\n",
            "670     6   165    68    26   168  33.6  0.631   49      0\n",
            "673     3   123   100    35   240  57.3  0.880   22      0\n",
            "685     2   129    74    26   205  33.2  0.591   25      0\n",
            "688     1   140    74    26   180  24.1  0.828   23      0\n",
            "689     1   144    82    46   180  46.1  0.335   46      1\n",
            "693     7   129    68    49   125  38.5  0.439   43      1\n",
            "695     7   142    90    24   480  30.4  0.128   43      1\n",
            "696     3   169    74    19   125  29.9  0.268   31      1\n",
            "698     4   127    88    11   155  34.5  0.598   28      0\n",
            "700     2   122    76    27   200  35.9  0.483   26      0\n",
            "707     2   127    46    21   335  34.4  0.176   22      0\n",
            "710     3   158    64    13   387  31.2  0.295   24      0\n",
            "713     0   134    58    20   291  26.4  0.352   21      0\n",
            "715     7   187    50    33   392  33.9  0.826   34      1\n",
            "716     3   173    78    39   185  33.8  0.970   31      1\n",
            "722     1   149    68    29   127  29.3  0.349   42      1\n",
            "732     2   174    88    37   120  44.5  0.646   24      1\n",
            "736     0   126    86    27   120  27.4  0.515   21      0\n",
            "744    13   153    88    37   140  40.6  1.174   39      0\n",
            "748     3   187    70    22   200  36.4  0.408   36      1\n",
            "753     0   181    88    44   510  43.3  0.222   26      1\n",
            "\n",
            "[154 rows x 9 columns]\n",
            "     preg  plas  pres  skin  test  mass   pedi  age  class\n",
            "4       0   137    40    35   168  43.1  2.288   33      1\n",
            "11     10   168    74     0     0  38.0  0.537   34      1\n",
            "20      3   126    88    41   235  39.3  0.704   27      0\n",
            "22      7   196    90     0     0  39.8  0.451   41      1\n",
            "24     11   143    94    33   146  36.6  0.254   51      1\n",
            "26      7   147    76     0     0  39.4  0.257   43      1\n",
            "40      3   180    64    25    70  34.0  0.271   26      0\n",
            "41      7   133    84     0     0  40.2  0.696   37      0\n",
            "43      9   171   110    24   240  45.4  0.721   54      1\n",
            "45      0   180    66    39     0  42.0  1.893   25      1\n",
            "54      7   150    66    42   342  34.7  0.718   42      0\n",
            "56      7   187    68    39   304  37.7  0.254   41      1\n",
            "58      0   146    82     0     0  40.5  1.781   44      0\n",
            "72     13   126    90     0     0  43.4  0.583   42      1\n",
            "73      4   129    86    20   270  35.1  0.231   23      0\n",
            "78      0   131     0     0     0  43.2  0.270   26      1\n",
            "84      5   137   108     0     0  48.8  0.227   37      1\n",
            "88     15   136    70    32   110  37.1  0.153   43      1\n",
            "95      6   144    72    27   228  33.9  0.255   40      0\n",
            "99      1   122    90    51   220  49.7  0.325   31      1\n",
            "100     1   163    72     0     0  39.0  1.222   33      1\n",
            "111     8   155    62    26   495  34.0  0.543   46      1\n",
            "116     5   124    74     0     0  34.0  0.220   38      1\n",
            "120     0   162    76    56   100  53.2  0.759   25      1\n",
            "132     3   170    64    37   225  34.5  0.356   30      1\n",
            "150     1   136    74    50   204  37.4  0.399   24      0\n",
            "152     9   156    86    28   155  34.3  1.189   42      1\n",
            "153     1   153    82    42   485  40.6  0.687   23      0\n",
            "154     8   188    78     0     0  47.9  0.137   43      1\n",
            "155     7   152    88    44     0  50.0  0.337   36      1\n",
            "..    ...   ...   ...   ...   ...   ...    ...  ...    ...\n",
            "655     2   155    52    27   540  38.7  0.240   25      1\n",
            "658    11   127   106     0     0  39.0  0.190   51      0\n",
            "661     1   199    76    43     0  42.9  1.394   22      1\n",
            "662     8   167   106    46   231  37.6  0.165   43      1\n",
            "663     9   145    80    46   130  37.9  0.637   40      1\n",
            "673     3   123   100    35   240  57.3  0.880   22      0\n",
            "678     3   121    52     0     0  36.0  0.127   25      1\n",
            "681     0   162    76    36     0  49.6  0.364   26      1\n",
            "689     1   144    82    46   180  46.1  0.335   46      1\n",
            "691    13   158   114     0     0  42.3  0.257   44      1\n",
            "692     2   121    70    32    95  39.1  0.886   23      0\n",
            "693     7   129    68    49   125  38.5  0.439   43      1\n",
            "698     4   127    88    11   155  34.5  0.598   28      0\n",
            "700     2   122    76    27   200  35.9  0.483   26      0\n",
            "702     1   168    88    29     0  35.0  0.905   52      1\n",
            "703     2   129     0     0     0  38.5  0.304   41      0\n",
            "707     2   127    46    21   335  34.4  0.176   22      0\n",
            "712    10   129    62    36     0  41.2  0.441   38      1\n",
            "715     7   187    50    33   392  33.9  0.826   34      1\n",
            "732     2   174    88    37   120  44.5  0.646   24      1\n",
            "744    13   153    88    37   140  40.6  1.174   39      0\n",
            "746     1   147    94    41     0  49.3  0.358   27      1\n",
            "748     3   187    70    22   200  36.4  0.408   36      1\n",
            "751     1   121    78    39    74  39.0  0.261   28      0\n",
            "753     0   181    88    44   510  43.3  0.222   26      1\n",
            "755     1   128    88    39   110  36.5  1.057   37      1\n",
            "757     0   123    72     0     0  36.3  0.258   52      1\n",
            "759     6   190    92     0     0  35.5  0.278   66      1\n",
            "761     9   170    74    31     0  44.0  0.403   43      1\n",
            "764     2   122    70    27     0  36.8  0.340   27      0\n",
            "\n",
            "[165 rows x 9 columns]\n",
            "     preg  plas  pres  skin  test  mass   pedi  age  class\n",
            "0       6   148    72    35     0  33.6  0.627   50      1\n",
            "2       8   183    64     0     0  23.3  0.672   32      1\n",
            "4       0   137    40    35   168  43.1  2.288   33      1\n",
            "11     10   168    74     0     0  38.0  0.537   34      1\n",
            "12     10   139    80     0     0  27.1  1.441   57      0\n",
            "14      5   166    72    19   175  25.8  0.587   51      1\n",
            "20      3   126    88    41   235  39.3  0.704   27      0\n",
            "31      3   158    76    36   245  31.6  0.851   28      1\n",
            "34     10   122    78    31     0  27.6  0.512   45      0\n",
            "41      7   133    84     0     0  40.2  0.696   37      0\n",
            "43      9   171   110    24   240  45.4  0.721   54      1\n",
            "45      0   180    66    39     0  42.0  1.893   25      1\n",
            "46      1   146    56     0     0  29.7  0.564   29      0\n",
            "54      7   150    66    42   342  34.7  0.718   42      0\n",
            "58      0   146    82     0     0  40.5  1.781   44      0\n",
            "63      2   141    58    34   128  25.4  0.699   24      0\n",
            "72     13   126    90     0     0  43.4  0.583   42      1\n",
            "94      2   142    82    18    64  24.7  0.761   21      0\n",
            "100     1   163    72     0     0  39.0  1.222   33      1\n",
            "105     1   126    56    29   152  28.7  0.801   21      0\n",
            "111     8   155    62    26   495  34.0  0.543   46      1\n",
            "114     7   160    54    32   175  30.5  0.588   39      1\n",
            "115     4   146    92     0     0  31.2  0.539   61      1\n",
            "120     0   162    76    56   100  53.2  0.759   25      1\n",
            "131     9   122    56     0     0  33.3  1.114   33      1\n",
            "138     0   129    80     0     0  31.2  0.703   29      0\n",
            "152     9   156    86    28   155  34.3  1.189   42      1\n",
            "153     1   153    82    42   485  40.6  0.687   23      0\n",
            "159    17   163    72    41   114  40.9  0.817   47      1\n",
            "164     0   131    88     0     0  31.6  0.743   32      1\n",
            "..    ...   ...   ...   ...   ...   ...    ...  ...    ...\n",
            "588     3   176    86    27   156  33.3  1.154   52      1\n",
            "594     6   123    72    45   230  33.6  0.733   34      0\n",
            "595     0   188    82    14   185  32.0  0.682   22      1\n",
            "603     7   150    78    29   126  35.2  0.692   54      1\n",
            "605     1   124    60    32     0  35.8  0.514   21      0\n",
            "606     1   181    78    42   293  40.0  1.258   22      1\n",
            "611     3   174    58    22   194  32.9  0.593   36      1\n",
            "612     7   168    88    42   321  38.2  0.787   40      1\n",
            "614    11   138    74    26   144  36.1  0.557   50      1\n",
            "622     6   183    94     0     0  40.8  1.461   45      0\n",
            "661     1   199    76    43     0  42.9  1.394   22      1\n",
            "663     9   145    80    46   130  37.9  0.637   40      1\n",
            "670     6   165    68    26   168  33.6  0.631   49      0\n",
            "673     3   123   100    35   240  57.3  0.880   22      0\n",
            "683     4   125    80     0     0  32.3  0.536   27      1\n",
            "684     5   136    82     0     0   0.0  0.640   69      0\n",
            "685     2   129    74    26   205  33.2  0.591   25      0\n",
            "688     1   140    74    26   180  24.1  0.828   23      0\n",
            "692     2   121    70    32    95  39.1  0.886   23      0\n",
            "698     4   127    88    11   155  34.5  0.598   28      0\n",
            "701     6   125    78    31     0  27.6  0.565   49      1\n",
            "702     1   168    88    29     0  35.0  0.905   52      1\n",
            "715     7   187    50    33   392  33.9  0.826   34      1\n",
            "716     3   173    78    39   185  33.8  0.970   31      1\n",
            "732     2   174    88    37   120  44.5  0.646   24      1\n",
            "736     0   126    86    27   120  27.4  0.515   21      0\n",
            "743     9   140    94     0     0  32.7  0.734   45      1\n",
            "744    13   153    88    37   140  40.6  1.174   39      0\n",
            "750     4   136    70     0     0  31.2  1.182   22      1\n",
            "755     1   128    88    39   110  36.5  1.057   37      1\n",
            "\n",
            "[140 rows x 9 columns]\n",
            "     preg  plas  pres  skin  test  mass   pedi  age  class\n",
            "0       6   148    72    35     0  33.6  0.627   50      1\n",
            "8       2   197    70    45   543  30.5  0.158   53      1\n",
            "9       8   125    96     0     0   0.0  0.232   54      1\n",
            "12     10   139    80     0     0  27.1  1.441   57      0\n",
            "13      1   189    60    23   846  30.1  0.398   59      1\n",
            "14      5   166    72    19   175  25.8  0.587   51      1\n",
            "22      7   196    90     0     0  39.8  0.451   41      1\n",
            "24     11   143    94    33   146  36.6  0.254   51      1\n",
            "25     10   125    70    26   115  31.1  0.205   41      1\n",
            "26      7   147    76     0     0  39.4  0.257   43      1\n",
            "28     13   145    82    19   110  22.2  0.245   57      0\n",
            "34     10   122    78    31     0  27.6  0.512   45      0\n",
            "41      7   133    84     0     0  40.2  0.696   37      0\n",
            "43      9   171   110    24   240  45.4  0.721   54      1\n",
            "44      7   159    64     0     0  27.4  0.294   40      0\n",
            "53      8   176    90    34   300  33.7  0.467   58      1\n",
            "54      7   150    66    42   342  34.7  0.718   42      0\n",
            "56      7   187    68    39   304  37.7  0.254   41      1\n",
            "58      0   146    82     0     0  40.5  1.781   44      0\n",
            "61      8   133    72     0     0  32.9  0.270   39      1\n",
            "72     13   126    90     0     0  43.4  0.583   42      1\n",
            "84      5   137   108     0     0  48.8  0.227   37      1\n",
            "88     15   136    70    32   110  37.1  0.153   43      1\n",
            "93      4   134    72     0     0  23.8  0.277   60      1\n",
            "95      6   144    72    27   228  33.9  0.255   40      0\n",
            "107     4   144    58    28   140  29.5  0.287   37      0\n",
            "111     8   155    62    26   495  34.0  0.543   46      1\n",
            "114     7   160    54    32   175  30.5  0.588   39      1\n",
            "115     4   146    92     0     0  31.2  0.539   61      1\n",
            "116     5   124    74     0     0  34.0  0.220   38      1\n",
            "..    ...   ...   ...   ...   ...   ...    ...  ...    ...\n",
            "658    11   127   106     0     0  39.0  0.190   51      0\n",
            "660    10   162    84     0     0  27.7  0.182   54      0\n",
            "662     8   167   106    46   231  37.6  0.165   43      1\n",
            "663     9   145    80    46   130  37.9  0.637   40      1\n",
            "666     4   145    82    18     0  32.5  0.235   70      1\n",
            "669     9   154    78    30   100  30.9  0.164   45      0\n",
            "670     6   165    68    26   168  33.6  0.631   49      0\n",
            "676     9   156    86     0     0  24.8  0.230   53      1\n",
            "684     5   136    82     0     0   0.0  0.640   69      0\n",
            "689     1   144    82    46   180  46.1  0.335   46      1\n",
            "691    13   158   114     0     0  42.3  0.257   44      1\n",
            "693     7   129    68    49   125  38.5  0.439   43      1\n",
            "695     7   142    90    24   480  30.4  0.128   43      1\n",
            "701     6   125    78    31     0  27.6  0.565   49      1\n",
            "702     1   168    88    29     0  35.0  0.905   52      1\n",
            "703     2   129     0     0     0  38.5  0.304   41      0\n",
            "708     9   164    78     0     0  32.8  0.148   45      1\n",
            "711     5   126    78    27    22  29.6  0.439   40      0\n",
            "712    10   129    62    36     0  41.2  0.441   38      1\n",
            "722     1   149    68    29   127  29.3  0.349   42      1\n",
            "743     9   140    94     0     0  32.7  0.734   45      1\n",
            "744    13   153    88    37   140  40.6  1.174   39      0\n",
            "749     6   162    62     0     0  24.3  0.178   50      1\n",
            "754     8   154    78    32     0  32.4  0.443   45      1\n",
            "755     1   128    88    39   110  36.5  1.057   37      1\n",
            "756     7   137    90    41     0  32.0  0.391   39      0\n",
            "757     0   123    72     0     0  36.3  0.258   52      1\n",
            "759     6   190    92     0     0  35.5  0.278   66      1\n",
            "761     9   170    74    31     0  44.0  0.403   43      1\n",
            "766     1   126    60     0     0  30.1  0.349   47      1\n",
            "\n",
            "[153 rows x 9 columns]\n",
            "     preg  plas  pres  skin  test  mass   pedi  age  class\n",
            "0       6   148    72    35     0  33.6  0.627   50      1\n",
            "2       8   183    64     0     0  23.3  0.672   32      1\n",
            "4       0   137    40    35   168  43.1  2.288   33      1\n",
            "8       2   197    70    45   543  30.5  0.158   53      1\n",
            "9       8   125    96     0     0   0.0  0.232   54      1\n",
            "11     10   168    74     0     0  38.0  0.537   34      1\n",
            "13      1   189    60    23   846  30.1  0.398   59      1\n",
            "14      5   166    72    19   175  25.8  0.587   51      1\n",
            "22      7   196    90     0     0  39.8  0.451   41      1\n",
            "24     11   143    94    33   146  36.6  0.254   51      1\n",
            "25     10   125    70    26   115  31.1  0.205   41      1\n",
            "26      7   147    76     0     0  39.4  0.257   43      1\n",
            "31      3   158    76    36   245  31.6  0.851   28      1\n",
            "43      9   171   110    24   240  45.4  0.721   54      1\n",
            "45      0   180    66    39     0  42.0  1.893   25      1\n",
            "53      8   176    90    34   300  33.7  0.467   58      1\n",
            "56      7   187    68    39   304  37.7  0.254   41      1\n",
            "61      8   133    72     0     0  32.9  0.270   39      1\n",
            "72     13   126    90     0     0  43.4  0.583   42      1\n",
            "78      0   131     0     0     0  43.2  0.270   26      1\n",
            "84      5   137   108     0     0  48.8  0.227   37      1\n",
            "88     15   136    70    32   110  37.1  0.153   43      1\n",
            "93      4   134    72     0     0  23.8  0.277   60      1\n",
            "99      1   122    90    51   220  49.7  0.325   31      1\n",
            "100     1   163    72     0     0  39.0  1.222   33      1\n",
            "110     3   171    72    33   135  33.3  0.199   24      1\n",
            "111     8   155    62    26   495  34.0  0.543   46      1\n",
            "114     7   160    54    32   175  30.5  0.588   39      1\n",
            "115     4   146    92     0     0  31.2  0.539   61      1\n",
            "116     5   124    74     0     0  34.0  0.220   38      1\n",
            "..    ...   ...   ...   ...   ...   ...    ...  ...    ...\n",
            "676     9   156    86     0     0  24.8  0.230   53      1\n",
            "678     3   121    52     0     0  36.0  0.127   25      1\n",
            "681     0   162    76    36     0  49.6  0.364   26      1\n",
            "683     4   125    80     0     0  32.3  0.536   27      1\n",
            "689     1   144    82    46   180  46.1  0.335   46      1\n",
            "691    13   158   114     0     0  42.3  0.257   44      1\n",
            "693     7   129    68    49   125  38.5  0.439   43      1\n",
            "695     7   142    90    24   480  30.4  0.128   43      1\n",
            "696     3   169    74    19   125  29.9  0.268   31      1\n",
            "701     6   125    78    31     0  27.6  0.565   49      1\n",
            "702     1   168    88    29     0  35.0  0.905   52      1\n",
            "708     9   164    78     0     0  32.8  0.148   45      1\n",
            "712    10   129    62    36     0  41.2  0.441   38      1\n",
            "715     7   187    50    33   392  33.9  0.826   34      1\n",
            "716     3   173    78    39   185  33.8  0.970   31      1\n",
            "722     1   149    68    29   127  29.3  0.349   42      1\n",
            "730     3   130    78    23    79  28.4  0.323   34      1\n",
            "732     2   174    88    37   120  44.5  0.646   24      1\n",
            "743     9   140    94     0     0  32.7  0.734   45      1\n",
            "746     1   147    94    41     0  49.3  0.358   27      1\n",
            "748     3   187    70    22   200  36.4  0.408   36      1\n",
            "749     6   162    62     0     0  24.3  0.178   50      1\n",
            "750     4   136    70     0     0  31.2  1.182   22      1\n",
            "753     0   181    88    44   510  43.3  0.222   26      1\n",
            "754     8   154    78    32     0  32.4  0.443   45      1\n",
            "755     1   128    88    39   110  36.5  1.057   37      1\n",
            "757     0   123    72     0     0  36.3  0.258   52      1\n",
            "759     6   190    92     0     0  35.5  0.278   66      1\n",
            "761     9   170    74    31     0  44.0  0.403   43      1\n",
            "766     1   126    60     0     0  30.1  0.349   47      1\n",
            "\n",
            "[195 rows x 9 columns]\n"
          ],
          "name": "stdout"
        }
      ]
    },
    {
      "metadata": {
        "id": "BIJkXsK4ch-u",
        "colab_type": "text"
      },
      "cell_type": "markdown",
      "source": [
        "Using what you have learned (and google) explore the data. Discuss what you find with people around you or the instructors"
      ]
    },
    {
      "metadata": {
        "id": "kSl28jLLdAF9",
        "colab_type": "code",
        "colab": {
          "base_uri": "https://localhost:8080/",
          "height": 34
        },
        "outputId": "6a089496-db17-4acc-af96-bba0e73616b7"
      },
      "cell_type": "code",
      "source": [
        "str(len(data[(data['preg'] > 3)])) + ' people have too much children'\n"
      ],
      "execution_count": 48,
      "outputs": [
        {
          "output_type": "execute_result",
          "data": {
            "text/plain": [
              "'344 people have too much children'"
            ]
          },
          "metadata": {
            "tags": []
          },
          "execution_count": 48
        }
      ]
    }
  ]
}