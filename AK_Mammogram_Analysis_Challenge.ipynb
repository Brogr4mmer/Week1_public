{
  "nbformat": 4,
  "nbformat_minor": 0,
  "metadata": {
    "colab": {
      "name": "AK_Mammogram_Analysis_Challenge.ipynb",
      "version": "0.3.2",
      "provenance": [],
      "collapsed_sections": [],
      "include_colab_link": true
    },
    "kernelspec": {
      "display_name": "Python 3",
      "language": "python",
      "name": "python3"
    }
  },
  "cells": [
    {
      "cell_type": "markdown",
      "metadata": {
        "id": "view-in-github",
        "colab_type": "text"
      },
      "source": [
        "[View in Colaboratory](https://colab.research.google.com/github/Brogr4mmer/Week1_public/blob/master/AK_Mammogram_Analysis_Challenge.ipynb)"
      ]
    },
    {
      "metadata": {
        "id": "w9iIELyqJo0T",
        "colab_type": "text"
      },
      "cell_type": "markdown",
      "source": [
        "# Mammogram Analysis Challenge\n",
        "\n",
        "A mammogram is an X-ray of the breast used primarily by radiologists to detect signs of breast cancer like abnormal masses and calcifications (signs of a possible tumor). Sometimes these abnormalities are obvious, sometimes they are not. In younger women especially, masses and calcifications can be difficult for radiologists to detect in a mammogram due to dense surrounding tissue. This makes mammograms a great candidate for machine learning analysis. A program that can detect abnormalities with high accuracy could be used to catch radiologists' mistakes and potentially save lives. \n",
        "\n",
        "For this challenge you will classify mammogram segments into two classes (positive for an abnormality and negative). You may also attempt to use the \"complex labels\" to classify the mammograms into 4 classes (negative, positive benign calcification, positive malignant calcification, positive benign mass, and positive malignant mass). We recommend you begin with the simple labels, but try both if you have time!\n",
        "\n",
        "Below we provide you with code to visualize the dataset as well as a simple but functional model that does a relatively poor job at this classification problem. It's up to you to build a classifier that does better! Your models will be evaluated based on confusion matrix , Aread under the ROC Curve, and Creativity.\n",
        "\n",
        "Before you run any code make sure you turn GPU support on! (Edit > Notebook Settings > Hardware Accelerator)."
      ]
    },
    {
      "metadata": {
        "id": "eNtIxtyy5qS-",
        "colab_type": "code",
        "colab": {}
      },
      "cell_type": "code",
      "source": [
        "# Run this cell to import the packages you will need to unpack the dataset\n",
        "import pandas as pd\n",
        "import numpy as np\n",
        "from matplotlib import pyplot as plt\n",
        "import scipy\n",
        "from io import BytesIO\n",
        "from PIL import Image\n",
        "import random\n",
        "import pickle\n",
        "import os\n",
        "import zipfile\n",
        "import scipy.ndimage\n",
        "from google.colab import files\n",
        "import tensorflow as tf"
      ],
      "execution_count": 0,
      "outputs": []
    },
    {
      "metadata": {
        "id": "MWwqOpa9Kroz",
        "colab_type": "text"
      },
      "cell_type": "markdown",
      "source": [
        "## Loading the Dataset\n",
        "\n",
        "This dataset is from the publicly available Digital Database for Screening Mammography (DDSM) and the Curated Breast Imaging Subset of DDSM (CBIS-DDSM).\n",
        "\n",
        "The simple labels are 0 (negative for an abnormality) and 1 (positive for an abnormality). The complex labels are:\n",
        "* 0 = Negative\n",
        "* 1 = Benign Calcification\n",
        "* 2 = Benign Mass\n",
        "* 3 = Malignant Calcification\n",
        "* 4 = Malignant Mass\n",
        "\n",
        "\n",
        "\n",
        "Run the cell below to get all the data for this challenge. After running the cell, the following data will be loaded into the following variables:\n",
        "* **train_simple_labels**: 2 column pandas df where each row contains a label (0 or 1) and the unique ID of the image the label corresponds to. 5500 samples/rows.\n",
        "* **train_complex_labels**: 2 column pandas df where the rows contains a label (0, 1, 2, 3, 4) and the unique ID of the image the label corresponds to. 5500 samples/rows.\n",
        "* **train_images_df**: 2 column pandas df where the rows contain a 299x299 numpy array of the (greyscale) pixel values in the image and the unique ID of the image. 5500 samples/rows. \n",
        "* **test_images_df**: 2 column pandas df where the rows contain a 299x299 numpy array of the (greyscale) pixel values in the image and the unique ID of the image. 500 samples/rows.\n",
        "\n",
        "DO NOT USE THE TEST IMAGES IN MODEL DEVELOPMENT AT ALL. These images will be used to evaluate your model and should only be run through the classifier ONCE at the time of submission. You will not have access to the test image labels.\n",
        "\n",
        "Explore the variables listed above! \n"
      ]
    },
    {
      "metadata": {
        "id": "hxDEIp63AZNy",
        "colab_type": "code",
        "colab": {
          "base_uri": "https://localhost:8080/",
          "height": 34
        },
        "outputId": "5c309fb4-a3d7-4d04-8d84-ce5a2c5d93a6"
      },
      "cell_type": "code",
      "source": [
        "! git clone https://github.com/BeaverWorksMedlytics/Week3_public.git  # Don't rerun these two lines!\n",
        "os.chdir('Week3_public/Challenge/Data')                               # Don't rerun these two lines!"
      ],
      "execution_count": 2,
      "outputs": [
        {
          "output_type": "stream",
          "text": [
            "fatal: destination path 'Week3_public' already exists and is not an empty directory.\r\n"
          ],
          "name": "stdout"
        }
      ]
    },
    {
      "metadata": {
        "id": "Vvoo9zFr5rTW",
        "colab_type": "code",
        "colab": {}
      },
      "cell_type": "code",
      "source": [
        "\n",
        "\n",
        "\n",
        "train_simple_labels = pd.read_csv('train_simple_labels.csv', header = None)\n",
        "train_complex_labels = pd.read_csv('train_complex_labels.csv', header=None)\n",
        "eval_simple_labels = pd.read_csv('eval_simple_labels.csv', header=None)\n",
        "eval_complex_labels = pd.read_csv('eval_complex_labels.csv', header=None)\n",
        "\n",
        "train_simple_labels = pd.concat([train_simple_labels, eval_simple_labels], axis=0, ignore_index = True)\n",
        "train_complex_labels = pd.concat([train_complex_labels, eval_complex_labels], axis=0, ignore_index = True)\n",
        "Labels = pd.DataFrame(list(range(5500)))\n",
        "train_simple_labels = pd.concat([train_simple_labels, Labels], axis=1)\n",
        "train_simple_labels.columns = ['Label', 'Unique_Index']\n",
        "train_complex_labels = pd.concat([train_complex_labels, Labels], axis=1)\n",
        "train_complex_labels.columns = ['Label', 'Unique_Index']\n",
        "\n",
        "\n",
        "\n",
        "zip_ref = zipfile.ZipFile('Mamm_Images_Train.zip.zip', 'r')\n",
        "zip_ref.extractall('Mamm_Images_Train')\n",
        "zip_ref.close()\n",
        "\n",
        "zip_ref = zipfile.ZipFile('Mamm_Images_Eval_zip.zip', 'r')\n",
        "zip_ref.extractall('Mamm_Images_Eval')\n",
        "zip_ref.close()\n",
        "\n",
        "zip_ref = zipfile.ZipFile('Mamm_Images_Test.zip.zip', 'r')\n",
        "zip_ref.extractall('Mamm_Images_Test')\n",
        "zip_ref.close()  \n",
        "\n",
        "\n",
        "train_images = []\n",
        "for i in range(5000):\n",
        "  im = scipy.ndimage.imread('Mamm_Images_Train/Mamm_Images_Train/image' + str(i) + '.jpg')\n",
        "  train_images.append(im)\n",
        "  \n",
        "for h in range(500):\n",
        "  im = scipy.ndimage.imread('Mamm_Images_Eval/Mamm_Images_Eval/image' +str(h) + '.jpg')\n",
        "  train_images.append(im)\n",
        "  \n",
        "train_images_df = pd.DataFrame([train_images])\n",
        "train_images_df = train_images_df.transpose()\n",
        "Labels = pd.DataFrame(list(range(5500)))\n",
        "train_images_df = pd.concat([train_images_df, Labels], axis = 1)\n",
        "train_images_df.columns = ['Images', 'Unique Index']\n",
        "\n",
        "\n",
        "test_images = []\n",
        "for k in range(1500):\n",
        "  im = scipy.ndimage.imread('Mamm_Images_Test/Mamm_Images_Test/image' + str(k) + '.jpg')\n",
        "  test_images.append(im)\n",
        "  \n",
        "  \n",
        "test_images_df = pd.DataFrame([test_images])\n",
        "test_images_df = test_images_df.transpose()\n",
        "Labels = pd.DataFrame(list(range(5500, 7000)))\n",
        "test_images_df = pd.concat([test_images_df, Labels], axis = 1)\n",
        "test_images_df.columns = ['Images', 'Unique Index']\n",
        "\n"
      ],
      "execution_count": 0,
      "outputs": []
    },
    {
      "metadata": {
        "id": "bkcCHU6dOqtw",
        "colab_type": "text"
      },
      "cell_type": "markdown",
      "source": [
        "## Data Visualization\n",
        "\n",
        "Run the cell below this one to see what the images you are working with look like. They are 299x299 pixel greyscale images of sections of mammograms. Generally, masses and calcifications show up as blobs of various size, shape, and brightness. As mentioned already, dense tissue shows up brighter on mammograms and it can be dificult to spot an abnormality in mammograms with denser tissue. Each image is labeled with its simple and complex labels. Notice that some images are not tissue at all but instead are segments of the mammogram labels (image 10 for example). Further data preprocessing or a robust classifier should successfully deal with these images. Change the numbers in the range function to look at other images in the training dataset.\n"
      ]
    },
    {
      "metadata": {
        "id": "exvqx8rZhFuG",
        "colab_type": "code",
        "colab": {}
      },
      "cell_type": "code",
      "source": [
        "# Visualization\n",
        "with tf.Session() as sess:\n",
        "    sess.run(tf.global_variables_initializer())\n",
        "    sess.run(tf.local_variables_initializer())\n",
        "    \n",
        "    coord = tf.train.Coordinator()\n",
        "    threads = tf.train.start_queue_runners(coord=coord)\n",
        "        \n",
        "    for i in range(0, 10): # change these numbers to explore the training dataset further\n",
        "      plt.imshow(255 - train_images[i])\n",
        "      plt.title(\"label_simple: \" + str(train_simple_labels.iloc[i,0]) + '  label_complex: ' + str(train_complex_labels.iloc[i,0]))\n",
        "      plt.grid(b=None)\n",
        "      plt.show()\n",
        "            \n",
        "    coord.request_stop()\n",
        "    \n",
        "    coord.join(threads)"
      ],
      "execution_count": 0,
      "outputs": []
    },
    {
      "metadata": {
        "id": "t5AU6_9kyuWg",
        "colab_type": "code",
        "colab": {}
      },
      "cell_type": "code",
      "source": [
        "from sklearn.model_selection import train_test_split\n",
        "X_train, X_val, y_train, y_val = train_test_split(np.array(train_images), train_simple_labels['Label'].values, test_size = 0.2)\n",
        "\n",
        "#reshape X_train and X_val to 2D\n",
        "num_images, nrows, ncols = X_train.shape\n",
        "X_train = X_train.reshape(num_images,ncols*nrows)\n",
        "\n",
        "num_images, nrows, ncols = X_val.shape\n",
        "X_val = X_val.reshape(num_images,ncols*nrows)\n",
        "\n",
        "\n",
        "\n",
        "#normalize the data\n",
        "X_train = X_train.astype('float')/255\n",
        "X_val = X_val.astype('float')/255"
      ],
      "execution_count": 0,
      "outputs": []
    },
    {
      "metadata": {
        "id": "UoWrYB9QAmNu",
        "colab_type": "code",
        "colab": {}
      },
      "cell_type": "code",
      "source": [
        "### formatting the test data\n",
        "\n",
        "X_test = np.array(test_images)\n",
        "\n",
        "### normalize the data\n",
        "X_test = X_test.astype('float')/255\n",
        "\n",
        "###reshape the data\n",
        "num_images, nrows, ncols = X_test.shape\n",
        "X_test = X_test.reshape(num_images,ncols*nrows)"
      ],
      "execution_count": 0,
      "outputs": []
    },
    {
      "metadata": {
        "id": "KRrX9BgOzXRx",
        "colab_type": "code",
        "colab": {
          "base_uri": "https://localhost:8080/",
          "height": 136
        },
        "outputId": "8ce6d301-c7a7-49c1-8b4c-9e5cdc982834"
      },
      "cell_type": "code",
      "source": [
        "from sklearn.ensemble import RandomForestClassifier\n",
        "clf = RandomForestClassifier(n_estimators=100, max_depth = 5, criterion='gini')\n",
        "clf = clf.fit(X_train, y_train)\n",
        "t = clf.predict_proba(X_val)\n",
        "t\n"
      ],
      "execution_count": 7,
      "outputs": [
        {
          "output_type": "execute_result",
          "data": {
            "text/plain": [
              "array([[0.35978992, 0.64021008],\n",
              "       [0.85325973, 0.14674027],\n",
              "       [0.46449185, 0.53550815],\n",
              "       ...,\n",
              "       [0.73698726, 0.26301274],\n",
              "       [0.08273054, 0.91726946],\n",
              "       [0.20140993, 0.79859007]])"
            ]
          },
          "metadata": {
            "tags": []
          },
          "execution_count": 7
        }
      ]
    },
    {
      "metadata": {
        "id": "FHWQbJd98Oqc",
        "colab_type": "code",
        "colab": {
          "base_uri": "https://localhost:8080/",
          "height": 34
        },
        "outputId": "c2e96242-236e-4cd9-d7bd-af433f06ad61"
      },
      "cell_type": "code",
      "source": [
        "from sklearn.metrics import confusion_matrix\n",
        "\n",
        "# This is exctly the first metric you'll be evaluated on!\n",
        "# Note: this will only work on the binary case -- let us know if you get to the multi-class case\n",
        "\n",
        "def cm_metric(y_true,y_prob):\n",
        "    \n",
        "    # predict the class with the greatest probability\n",
        "    y_val_predict = [np.argmax(y) for y in y_prob]\n",
        "\n",
        "    # calculate the confusion matrix\n",
        "    cm = confusion_matrix(y_true, y_val_predict)\n",
        "\n",
        "    #cm_norm = cm.astype('float') / cm.sum(axis=1)[:, np.newaxis]\n",
        "    #print(cm_norm)\n",
        "    return sum(sum(np.multiply(cm,np.array([[2, -3], [-6, 2]])))), cm\n",
        "\n",
        "metric, y = cm_metric(y_val,t)\n",
        "print('Confusion Matrix Metric: ', metric)\n"
      ],
      "execution_count": 8,
      "outputs": [
        {
          "output_type": "stream",
          "text": [
            "Confusion Matrix Metric:  863\n"
          ],
          "name": "stdout"
        }
      ]
    },
    {
      "metadata": {
        "id": "T68RDJSw7PRU",
        "colab_type": "code",
        "colab": {
          "base_uri": "https://localhost:8080/",
          "height": 34
        },
        "outputId": "667fa30e-955f-4b32-e1ec-7d2bf3864936"
      },
      "cell_type": "code",
      "source": [
        "from sklearn.metrics import roc_curve\n",
        "from sklearn.metrics import auc\n",
        "\n",
        "fpr, tpr, threshold = roc_curve(y_val, t[:,1])\n",
        "roc_auc = auc(fpr, tpr)\n",
        "print('AUC: ',roc_auc)"
      ],
      "execution_count": 9,
      "outputs": [
        {
          "output_type": "stream",
          "text": [
            "AUC:  0.8917190082644627\n"
          ],
          "name": "stdout"
        }
      ]
    },
    {
      "metadata": {
        "id": "Fu9645i-75Ww",
        "colab_type": "code",
        "colab": {
          "base_uri": "https://localhost:8080/",
          "height": 376
        },
        "outputId": "d9af2d14-2129-47f6-ac27-b0a179b9e541"
      },
      "cell_type": "code",
      "source": [
        "import matplotlib.pyplot as plt\n",
        "plt.title('Receiver Operating Characteristic')\n",
        "plt.plot(fpr, tpr, 'b', label = 'AUC = %0.3f' % roc_auc)\n",
        "plt.legend(loc = 'lower right')\n",
        "plt.plot([0, 1], [0, 1],'r--')\n",
        "plt.xlim([0, 1])\n",
        "plt.ylim([0, 1])\n",
        "plt.ylabel('True Positive Rate')\n",
        "plt.xlabel('False Positive Rate')\n",
        "plt.show()"
      ],
      "execution_count": 10,
      "outputs": [
        {
          "output_type": "display_data",
          "data": {
            "image/png": "[encoded data removed]",
            "text/plain": [
              "<matplotlib.figure.Figure at 0x7fa77080fda0>"
            ]
          },
          "metadata": {
            "tags": []
          }
        }
      ]
    },
    {
      "metadata": {
        "id": "J0XbZkruvgDk",
        "colab_type": "code",
        "colab": {
          "base_uri": "https://localhost:8080/",
          "height": 392
        },
        "outputId": "ca95024c-285e-4b17-d394-fb2cd1a9c33f"
      },
      "cell_type": "code",
      "source": [
        "plt.figure(figsize=(8,6))\n",
        "plt.imshow(y, cmap='hot', interpolation='nearest')\n",
        "plt.grid(False)\n",
        "plt.colorbar()\n",
        "plt.xlabel('true label')\n",
        "plt.ylabel('predicted label')\n",
        "plt.show()"
      ],
      "execution_count": 11,
      "outputs": [
        {
          "output_type": "display_data",
          "data": {
            "image/png": "[encoded data removed]",
            "text/plain": [
              "<matplotlib.figure.Figure at 0x7fa76d286d30>"
            ]
          },
          "metadata": {
            "tags": []
          }
        }
      ]
    },
    {
      "metadata": {
        "id": "8mYW1M6qAUGH",
        "colab_type": "code",
        "colab": {
          "base_uri": "https://localhost:8080/",
          "height": 51
        },
        "outputId": "a0cb039b-f945-44f3-c911-5f054f188230"
      },
      "cell_type": "code",
      "source": [
        "q = clf.predict_proba(X_test)\n",
        "q[3:5]"
      ],
      "execution_count": 38,
      "outputs": [
        {
          "output_type": "execute_result",
          "data": {
            "text/plain": [
              "array([[0.46323648, 0.53676352],\n",
              "       [0.6143384 , 0.3856616 ]])"
            ]
          },
          "metadata": {
            "tags": []
          },
          "execution_count": 38
        }
      ]
    },
    {
      "metadata": {
        "id": "y94Kd-yp3Ii3",
        "colab_type": "code",
        "colab": {
          "base_uri": "https://localhost:8080/",
          "height": 1969
        },
        "outputId": "bab4b8e6-2934-4989-bcd4-d04285560876"
      },
      "cell_type": "code",
      "source": [
        "q = clf.predict_proba(X_test)\n",
        "testing_output = pd.DataFrame(q, columns = ['zero', 'one'])\n",
        "Labels = pd.DataFrame(list(range(5500, 7000)))\n",
        "testing_output['Unique indices'] = Labels\n",
        "\n",
        "hector = []\n",
        "for i in range(q.shape[0]):\n",
        "#   if q[i][0] > q[i][1]:\n",
        "#     hector.append(0)\n",
        "#   else:\n",
        "#     hector.append(1)\n",
        "  hector.append(np.argmax([testing_output['zero'][i], testing_output['one'][i]], axis = 0))\n",
        "testing_output['guesses'] = hector\n",
        "# testing_output"
      ],
      "execution_count": 50,
      "outputs": [
        {
          "output_type": "execute_result",
          "data": {
            "text/html": [
              "<div>\n",
              "<style scoped>\n",
              "    .dataframe tbody tr th:only-of-type {\n",
              "        vertical-align: middle;\n",
              "    }\n",
              "\n",
              "    .dataframe tbody tr th {\n",
              "        vertical-align: top;\n",
              "    }\n",
              "\n",
              "    .dataframe thead th {\n",
              "        text-align: right;\n",
              "    }\n",
              "</style>\n",
              "<table border=\"1\" class=\"dataframe\">\n",
              "  <thead>\n",
              "    <tr style=\"text-align: right;\">\n",
              "      <th></th>\n",
              "      <th>zero</th>\n",
              "      <th>one</th>\n",
              "      <th>Unique indices</th>\n",
              "      <th>guesses</th>\n",
              "    </tr>\n",
              "  </thead>\n",
              "  <tbody>\n",
              "    <tr>\n",
              "      <th>0</th>\n",
              "      <td>0.807042</td>\n",
              "      <td>0.192958</td>\n",
              "      <td>5500</td>\n",
              "      <td>0</td>\n",
              "    </tr>\n",
              "    <tr>\n",
              "      <th>1</th>\n",
              "      <td>0.946183</td>\n",
              "      <td>0.053817</td>\n",
              "      <td>5501</td>\n",
              "      <td>0</td>\n",
              "    </tr>\n",
              "    <tr>\n",
              "      <th>2</th>\n",
              "      <td>0.938662</td>\n",
              "      <td>0.061338</td>\n",
              "      <td>5502</td>\n",
              "      <td>0</td>\n",
              "    </tr>\n",
              "    <tr>\n",
              "      <th>3</th>\n",
              "      <td>0.463236</td>\n",
              "      <td>0.536764</td>\n",
              "      <td>5503</td>\n",
              "      <td>1</td>\n",
              "    </tr>\n",
              "    <tr>\n",
              "      <th>4</th>\n",
              "      <td>0.614338</td>\n",
              "      <td>0.385662</td>\n",
              "      <td>5504</td>\n",
              "      <td>0</td>\n",
              "    </tr>\n",
              "    <tr>\n",
              "      <th>5</th>\n",
              "      <td>0.697681</td>\n",
              "      <td>0.302319</td>\n",
              "      <td>5505</td>\n",
              "      <td>0</td>\n",
              "    </tr>\n",
              "    <tr>\n",
              "      <th>6</th>\n",
              "      <td>0.933260</td>\n",
              "      <td>0.066740</td>\n",
              "      <td>5506</td>\n",
              "      <td>0</td>\n",
              "    </tr>\n",
              "    <tr>\n",
              "      <th>7</th>\n",
              "      <td>0.944939</td>\n",
              "      <td>0.055061</td>\n",
              "      <td>5507</td>\n",
              "      <td>0</td>\n",
              "    </tr>\n",
              "    <tr>\n",
              "      <th>8</th>\n",
              "      <td>0.492867</td>\n",
              "      <td>0.507133</td>\n",
              "      <td>5508</td>\n",
              "      <td>1</td>\n",
              "    </tr>\n",
              "    <tr>\n",
              "      <th>9</th>\n",
              "      <td>0.537677</td>\n",
              "      <td>0.462323</td>\n",
              "      <td>5509</td>\n",
              "      <td>0</td>\n",
              "    </tr>\n",
              "    <tr>\n",
              "      <th>10</th>\n",
              "      <td>0.660978</td>\n",
              "      <td>0.339022</td>\n",
              "      <td>5510</td>\n",
              "      <td>0</td>\n",
              "    </tr>\n",
              "    <tr>\n",
              "      <th>11</th>\n",
              "      <td>0.916589</td>\n",
              "      <td>0.083411</td>\n",
              "      <td>5511</td>\n",
              "      <td>0</td>\n",
              "    </tr>\n",
              "    <tr>\n",
              "      <th>12</th>\n",
              "      <td>0.948411</td>\n",
              "      <td>0.051589</td>\n",
              "      <td>5512</td>\n",
              "      <td>0</td>\n",
              "    </tr>\n",
              "    <tr>\n",
              "      <th>13</th>\n",
              "      <td>0.724710</td>\n",
              "      <td>0.275290</td>\n",
              "      <td>5513</td>\n",
              "      <td>0</td>\n",
              "    </tr>\n",
              "    <tr>\n",
              "      <th>14</th>\n",
              "      <td>0.948411</td>\n",
              "      <td>0.051589</td>\n",
              "      <td>5514</td>\n",
              "      <td>0</td>\n",
              "    </tr>\n",
              "    <tr>\n",
              "      <th>15</th>\n",
              "      <td>0.943871</td>\n",
              "      <td>0.056129</td>\n",
              "      <td>5515</td>\n",
              "      <td>0</td>\n",
              "    </tr>\n",
              "    <tr>\n",
              "      <th>16</th>\n",
              "      <td>0.948411</td>\n",
              "      <td>0.051589</td>\n",
              "      <td>5516</td>\n",
              "      <td>0</td>\n",
              "    </tr>\n",
              "    <tr>\n",
              "      <th>17</th>\n",
              "      <td>0.946183</td>\n",
              "      <td>0.053817</td>\n",
              "      <td>5517</td>\n",
              "      <td>0</td>\n",
              "    </tr>\n",
              "    <tr>\n",
              "      <th>18</th>\n",
              "      <td>0.383432</td>\n",
              "      <td>0.616568</td>\n",
              "      <td>5518</td>\n",
              "      <td>1</td>\n",
              "    </tr>\n",
              "    <tr>\n",
              "      <th>19</th>\n",
              "      <td>0.495918</td>\n",
              "      <td>0.504082</td>\n",
              "      <td>5519</td>\n",
              "      <td>1</td>\n",
              "    </tr>\n",
              "    <tr>\n",
              "      <th>20</th>\n",
              "      <td>0.948411</td>\n",
              "      <td>0.051589</td>\n",
              "      <td>5520</td>\n",
              "      <td>0</td>\n",
              "    </tr>\n",
              "    <tr>\n",
              "      <th>21</th>\n",
              "      <td>0.298532</td>\n",
              "      <td>0.701468</td>\n",
              "      <td>5521</td>\n",
              "      <td>1</td>\n",
              "    </tr>\n",
              "    <tr>\n",
              "      <th>22</th>\n",
              "      <td>0.948411</td>\n",
              "      <td>0.051589</td>\n",
              "      <td>5522</td>\n",
              "      <td>0</td>\n",
              "    </tr>\n",
              "    <tr>\n",
              "      <th>23</th>\n",
              "      <td>0.943109</td>\n",
              "      <td>0.056891</td>\n",
              "      <td>5523</td>\n",
              "      <td>0</td>\n",
              "    </tr>\n",
              "    <tr>\n",
              "      <th>24</th>\n",
              "      <td>0.919722</td>\n",
              "      <td>0.080278</td>\n",
              "      <td>5524</td>\n",
              "      <td>0</td>\n",
              "    </tr>\n",
              "    <tr>\n",
              "      <th>25</th>\n",
              "      <td>0.513623</td>\n",
              "      <td>0.486377</td>\n",
              "      <td>5525</td>\n",
              "      <td>0</td>\n",
              "    </tr>\n",
              "    <tr>\n",
              "      <th>26</th>\n",
              "      <td>0.948411</td>\n",
              "      <td>0.051589</td>\n",
              "      <td>5526</td>\n",
              "      <td>0</td>\n",
              "    </tr>\n",
              "    <tr>\n",
              "      <th>27</th>\n",
              "      <td>0.126795</td>\n",
              "      <td>0.873205</td>\n",
              "      <td>5527</td>\n",
              "      <td>1</td>\n",
              "    </tr>\n",
              "    <tr>\n",
              "      <th>28</th>\n",
              "      <td>0.890543</td>\n",
              "      <td>0.109457</td>\n",
              "      <td>5528</td>\n",
              "      <td>0</td>\n",
              "    </tr>\n",
              "    <tr>\n",
              "      <th>29</th>\n",
              "      <td>0.472667</td>\n",
              "      <td>0.527333</td>\n",
              "      <td>5529</td>\n",
              "      <td>1</td>\n",
              "    </tr>\n",
              "    <tr>\n",
              "      <th>...</th>\n",
              "      <td>...</td>\n",
              "      <td>...</td>\n",
              "      <td>...</td>\n",
              "      <td>...</td>\n",
              "    </tr>\n",
              "    <tr>\n",
              "      <th>1470</th>\n",
              "      <td>0.062622</td>\n",
              "      <td>0.937378</td>\n",
              "      <td>6970</td>\n",
              "      <td>1</td>\n",
              "    </tr>\n",
              "    <tr>\n",
              "      <th>1471</th>\n",
              "      <td>0.603141</td>\n",
              "      <td>0.396859</td>\n",
              "      <td>6971</td>\n",
              "      <td>0</td>\n",
              "    </tr>\n",
              "    <tr>\n",
              "      <th>1472</th>\n",
              "      <td>0.104697</td>\n",
              "      <td>0.895303</td>\n",
              "      <td>6972</td>\n",
              "      <td>1</td>\n",
              "    </tr>\n",
              "    <tr>\n",
              "      <th>1473</th>\n",
              "      <td>0.099812</td>\n",
              "      <td>0.900188</td>\n",
              "      <td>6973</td>\n",
              "      <td>1</td>\n",
              "    </tr>\n",
              "    <tr>\n",
              "      <th>1474</th>\n",
              "      <td>0.286799</td>\n",
              "      <td>0.713201</td>\n",
              "      <td>6974</td>\n",
              "      <td>1</td>\n",
              "    </tr>\n",
              "    <tr>\n",
              "      <th>1475</th>\n",
              "      <td>0.416863</td>\n",
              "      <td>0.583137</td>\n",
              "      <td>6975</td>\n",
              "      <td>1</td>\n",
              "    </tr>\n",
              "    <tr>\n",
              "      <th>1476</th>\n",
              "      <td>0.089876</td>\n",
              "      <td>0.910124</td>\n",
              "      <td>6976</td>\n",
              "      <td>1</td>\n",
              "    </tr>\n",
              "    <tr>\n",
              "      <th>1477</th>\n",
              "      <td>0.302200</td>\n",
              "      <td>0.697800</td>\n",
              "      <td>6977</td>\n",
              "      <td>1</td>\n",
              "    </tr>\n",
              "    <tr>\n",
              "      <th>1478</th>\n",
              "      <td>0.785426</td>\n",
              "      <td>0.214574</td>\n",
              "      <td>6978</td>\n",
              "      <td>0</td>\n",
              "    </tr>\n",
              "    <tr>\n",
              "      <th>1479</th>\n",
              "      <td>0.126288</td>\n",
              "      <td>0.873712</td>\n",
              "      <td>6979</td>\n",
              "      <td>1</td>\n",
              "    </tr>\n",
              "    <tr>\n",
              "      <th>1480</th>\n",
              "      <td>0.635619</td>\n",
              "      <td>0.364381</td>\n",
              "      <td>6980</td>\n",
              "      <td>0</td>\n",
              "    </tr>\n",
              "    <tr>\n",
              "      <th>1481</th>\n",
              "      <td>0.064147</td>\n",
              "      <td>0.935853</td>\n",
              "      <td>6981</td>\n",
              "      <td>1</td>\n",
              "    </tr>\n",
              "    <tr>\n",
              "      <th>1482</th>\n",
              "      <td>0.137746</td>\n",
              "      <td>0.862254</td>\n",
              "      <td>6982</td>\n",
              "      <td>1</td>\n",
              "    </tr>\n",
              "    <tr>\n",
              "      <th>1483</th>\n",
              "      <td>0.106479</td>\n",
              "      <td>0.893521</td>\n",
              "      <td>6983</td>\n",
              "      <td>1</td>\n",
              "    </tr>\n",
              "    <tr>\n",
              "      <th>1484</th>\n",
              "      <td>0.300743</td>\n",
              "      <td>0.699257</td>\n",
              "      <td>6984</td>\n",
              "      <td>1</td>\n",
              "    </tr>\n",
              "    <tr>\n",
              "      <th>1485</th>\n",
              "      <td>0.065718</td>\n",
              "      <td>0.934282</td>\n",
              "      <td>6985</td>\n",
              "      <td>1</td>\n",
              "    </tr>\n",
              "    <tr>\n",
              "      <th>1486</th>\n",
              "      <td>0.049616</td>\n",
              "      <td>0.950384</td>\n",
              "      <td>6986</td>\n",
              "      <td>1</td>\n",
              "    </tr>\n",
              "    <tr>\n",
              "      <th>1487</th>\n",
              "      <td>0.105564</td>\n",
              "      <td>0.894436</td>\n",
              "      <td>6987</td>\n",
              "      <td>1</td>\n",
              "    </tr>\n",
              "    <tr>\n",
              "      <th>1488</th>\n",
              "      <td>0.514291</td>\n",
              "      <td>0.485709</td>\n",
              "      <td>6988</td>\n",
              "      <td>0</td>\n",
              "    </tr>\n",
              "    <tr>\n",
              "      <th>1489</th>\n",
              "      <td>0.095913</td>\n",
              "      <td>0.904087</td>\n",
              "      <td>6989</td>\n",
              "      <td>1</td>\n",
              "    </tr>\n",
              "    <tr>\n",
              "      <th>1490</th>\n",
              "      <td>0.699152</td>\n",
              "      <td>0.300848</td>\n",
              "      <td>6990</td>\n",
              "      <td>0</td>\n",
              "    </tr>\n",
              "    <tr>\n",
              "      <th>1491</th>\n",
              "      <td>0.442573</td>\n",
              "      <td>0.557427</td>\n",
              "      <td>6991</td>\n",
              "      <td>1</td>\n",
              "    </tr>\n",
              "    <tr>\n",
              "      <th>1492</th>\n",
              "      <td>0.129715</td>\n",
              "      <td>0.870285</td>\n",
              "      <td>6992</td>\n",
              "      <td>1</td>\n",
              "    </tr>\n",
              "    <tr>\n",
              "      <th>1493</th>\n",
              "      <td>0.248097</td>\n",
              "      <td>0.751903</td>\n",
              "      <td>6993</td>\n",
              "      <td>1</td>\n",
              "    </tr>\n",
              "    <tr>\n",
              "      <th>1494</th>\n",
              "      <td>0.108929</td>\n",
              "      <td>0.891071</td>\n",
              "      <td>6994</td>\n",
              "      <td>1</td>\n",
              "    </tr>\n",
              "    <tr>\n",
              "      <th>1495</th>\n",
              "      <td>0.065198</td>\n",
              "      <td>0.934802</td>\n",
              "      <td>6995</td>\n",
              "      <td>1</td>\n",
              "    </tr>\n",
              "    <tr>\n",
              "      <th>1496</th>\n",
              "      <td>0.930085</td>\n",
              "      <td>0.069915</td>\n",
              "      <td>6996</td>\n",
              "      <td>0</td>\n",
              "    </tr>\n",
              "    <tr>\n",
              "      <th>1497</th>\n",
              "      <td>0.118442</td>\n",
              "      <td>0.881558</td>\n",
              "      <td>6997</td>\n",
              "      <td>1</td>\n",
              "    </tr>\n",
              "    <tr>\n",
              "      <th>1498</th>\n",
              "      <td>0.059067</td>\n",
              "      <td>0.940933</td>\n",
              "      <td>6998</td>\n",
              "      <td>1</td>\n",
              "    </tr>\n",
              "    <tr>\n",
              "      <th>1499</th>\n",
              "      <td>0.590294</td>\n",
              "      <td>0.409706</td>\n",
              "      <td>6999</td>\n",
              "      <td>0</td>\n",
              "    </tr>\n",
              "  </tbody>\n",
              "</table>\n",
              "<p>1500 rows × 4 columns</p>\n",
              "</div>"
            ],
            "text/plain": [
              "          zero       one  Unique indices  guesses\n",
              "0     0.807042  0.192958            5500        0\n",
              "1     0.946183  0.053817            5501        0\n",
              "2     0.938662  0.061338            5502        0\n",
              "3     0.463236  0.536764            5503        1\n",
              "4     0.614338  0.385662            5504        0\n",
              "5     0.697681  0.302319            5505        0\n",
              "6     0.933260  0.066740            5506        0\n",
              "7     0.944939  0.055061            5507        0\n",
              "8     0.492867  0.507133            5508        1\n",
              "9     0.537677  0.462323            5509        0\n",
              "10    0.660978  0.339022            5510        0\n",
              "11    0.916589  0.083411            5511        0\n",
              "12    0.948411  0.051589            5512        0\n",
              "13    0.724710  0.275290            5513        0\n",
              "14    0.948411  0.051589            5514        0\n",
              "15    0.943871  0.056129            5515        0\n",
              "16    0.948411  0.051589            5516        0\n",
              "17    0.946183  0.053817            5517        0\n",
              "18    0.383432  0.616568            5518        1\n",
              "19    0.495918  0.504082            5519        1\n",
              "20    0.948411  0.051589            5520        0\n",
              "21    0.298532  0.701468            5521        1\n",
              "22    0.948411  0.051589            5522        0\n",
              "23    0.943109  0.056891            5523        0\n",
              "24    0.919722  0.080278            5524        0\n",
              "25    0.513623  0.486377            5525        0\n",
              "26    0.948411  0.051589            5526        0\n",
              "27    0.126795  0.873205            5527        1\n",
              "28    0.890543  0.109457            5528        0\n",
              "29    0.472667  0.527333            5529        1\n",
              "...        ...       ...             ...      ...\n",
              "1470  0.062622  0.937378            6970        1\n",
              "1471  0.603141  0.396859            6971        0\n",
              "1472  0.104697  0.895303            6972        1\n",
              "1473  0.099812  0.900188            6973        1\n",
              "1474  0.286799  0.713201            6974        1\n",
              "1475  0.416863  0.583137            6975        1\n",
              "1476  0.089876  0.910124            6976        1\n",
              "1477  0.302200  0.697800            6977        1\n",
              "1478  0.785426  0.214574            6978        0\n",
              "1479  0.126288  0.873712            6979        1\n",
              "1480  0.635619  0.364381            6980        0\n",
              "1481  0.064147  0.935853            6981        1\n",
              "1482  0.137746  0.862254            6982        1\n",
              "1483  0.106479  0.893521            6983        1\n",
              "1484  0.300743  0.699257            6984        1\n",
              "1485  0.065718  0.934282            6985        1\n",
              "1486  0.049616  0.950384            6986        1\n",
              "1487  0.105564  0.894436            6987        1\n",
              "1488  0.514291  0.485709            6988        0\n",
              "1489  0.095913  0.904087            6989        1\n",
              "1490  0.699152  0.300848            6990        0\n",
              "1491  0.442573  0.557427            6991        1\n",
              "1492  0.129715  0.870285            6992        1\n",
              "1493  0.248097  0.751903            6993        1\n",
              "1494  0.108929  0.891071            6994        1\n",
              "1495  0.065198  0.934802            6995        1\n",
              "1496  0.930085  0.069915            6996        0\n",
              "1497  0.118442  0.881558            6997        1\n",
              "1498  0.059067  0.940933            6998        1\n",
              "1499  0.590294  0.409706            6999        0\n",
              "\n",
              "[1500 rows x 4 columns]"
            ]
          },
          "metadata": {
            "tags": []
          },
          "execution_count": 50
        }
      ]
    },
    {
      "metadata": {
        "id": "j_-QKjxx-NqL",
        "colab_type": "code",
        "colab": {}
      },
      "cell_type": "code",
      "source": [
        "pickle.dump(testing_output, open('Ai3_binary.p', 'wb')) # Creates pickle file in Google Colab but doesn't save to your machine\n",
        "files.download('Ai3_binary.p') # Saving to pickle file to local drive (should be in Downloads). Send pickle file to beaverworksmedlytics@gmail.com\n"
      ],
      "execution_count": 0,
      "outputs": []
    },
    {
      "metadata": {
        "id": "NLPmjL4x6a_8",
        "colab_type": "code",
        "colab": {}
      },
      "cell_type": "code",
      "source": [
        "def testing(test_images):   # Final function to output pandas df of ordered image indexes and their respective guesses\n",
        "  mostly_blank_feature_list = mostly_blank_feature(test_images)\n",
        "  true_rows_index, false_rows_index = partition_test(mostly_blank_feature_list, 1)\n",
        "  \n",
        "  true_rows_guess = np.array([0] * len(true_rows_index))\n",
        "  false_rows_guess = np.array([1] * len(false_rows_index))\n",
        "  \n",
        "  guesses = np.concatenate((true_rows_guess, false_rows_guess))\n",
        "  guesses_one_hot = np.eye(2)[guesses] # converting raw guesses (0 or one) to one hot vectors where 0 = [1, 0] and 1 = [0,1] \n",
        "  indexes = np.concatenate((np.array(true_rows_index), np.array(false_rows_index)))\n",
        "  \n",
        "  output = pd.DataFrame(data={'Guesses': guesses, 'Zero': guesses_one_hot[:,0], 'One': guesses_one_hot[:,1], 'Indexes': indexes}) # creating pandas dataframe of 3 comlumns \n",
        "                                                                                                                                  # (indices and probabilities for each class)\n",
        "  output = output.sort_values('Indexes') # sorting so that the column for image indexes are ordered from 0-499 and they stay with their respective Guesses\n",
        "  \n",
        "  output = output.reset_index(drop=True) # Reseting dataframe indices so that they are ordered 0-499\n",
        "  \n",
        "  output = output.drop('Indexes', axis = 1)  # Because df indices and images indices columns are now the same we can drop the indexes column\n",
        "  \n",
        "  cols = output.columns.tolist()   # Converting columns to lists so they can be reordered as \"Guest, Zero, One\"\n",
        "  \n",
        "  output = output[cols[:1] + cols[2:] + cols[1:2]]  # Reordering columns (you don't have to do this but I wanted to)\n",
        "  \n",
        "  output = pd.concat([output, pd.DataFrame(test_images_df.iloc[:, 1])], axis =1)\n",
        "  \n",
        "  return(output)"
      ],
      "execution_count": 0,
      "outputs": []
    },
    {
      "metadata": {
        "id": "MHUUxXcCt8_i",
        "colab_type": "text"
      },
      "cell_type": "markdown",
      "source": [
        "# Example Classifier\n",
        "\n",
        "Below is an example of a very poor classifier for this dataset. It is a decision tree with just one feature - whether or not the image is mostly blank space or not. It performs with about 72.4% accuracy on the eval data and 64.4% accuracy on the test data. Remember that accuracy is not always the best measure of a classifier!\n",
        "\n",
        "It's up to you to build a classifier (of any variety) that does a better job!"
      ]
    },
    {
      "metadata": {
        "id": "GJEnbuKNhHse",
        "colab_type": "code",
        "colab": {}
      },
      "cell_type": "code",
      "source": [
        "#######       Example Classifier          ##########\n",
        "\n",
        "all_training = pd.concat([train_images_df, train_simple_labels], axis = 1)  ## combining images df and label dfs to make one datafram\n",
        "all_training =  all_training.reindex(np.random.permutation(all_training.index)).drop(['Unique Index'], axis = 1) ## shuffling/randomizing df (Note: I use 0:4000 for training and 4000:5500 for validation)\n",
        "\n",
        "\n",
        "\n",
        "\n",
        "def mostly_blank_feature(images):  # Feature Extraction\n",
        "  mbf = []\n",
        "  # Sample 2000 of 89401 pixels. If half of them are less than 100 (fairly dark) then mostly_blank_feature = 1, else it's 0\n",
        "  for h in range(len(images)):\n",
        "    if(sum(np.array(random.sample(list(images[h].reshape([299*299])), 2000)) < 100) > 1000): \n",
        "      mbf.append(1)\n",
        "    else:\n",
        "      mbf.append(0)\n",
        "  return(mbf)\n",
        "\n",
        "\n",
        "def gini(labels):  # Gini Impurity measures how often an element would be incorrectly labeled if it were labeled according to a particular partition\n",
        "  classes = 2      # (used to measure how good the partition is)\n",
        "  impurity = 1\n",
        "  \n",
        "  for label in range(classes):\n",
        "    prob_of_label = sum(labels)/float(len(labels))\n",
        "    impurity -= prob_of_label**2\n",
        "  return impurity\n",
        "\n",
        "def partition(feature_list, label_list, feature_value):  # Splits the images by according to some feature value\n",
        "  true_rows, false_rows = [], []\n",
        "  true_rows_index, false_rows_index = [], []\n",
        "  for d in range(len(feature_list)):\n",
        "    if(feature_list[d] == feature_value):\n",
        "      true_rows.append(label_list[d])\n",
        "      true_rows_index.append(d)\n",
        "    else:\n",
        "      false_rows.append(label_list[d])\n",
        "      false_rows_index.append(d)\n",
        "\n",
        "  return true_rows, false_rows, true_rows_index, false_rows_index\n",
        "\n",
        "def info_gain(trues, falses, current):  # Measures how much info is gained by partitioning the data in a particular way using Gini Impurity\n",
        "  p = float(len(trues)) / (len(trues) + len(falses))\n",
        "  return current - p * gini(trues) - (1 - p) * gini(falses)\n",
        "\n",
        "\n",
        "\n",
        "    "
      ],
      "execution_count": 0,
      "outputs": []
    },
    {
      "metadata": {
        "id": "bKdqRpN-3FTk",
        "colab_type": "code",
        "colab": {
          "base_uri": "https://localhost:8080/",
          "height": 34
        },
        "outputId": "6b46da42-0fd3-422f-faa9-1859f95b829a"
      },
      "cell_type": "code",
      "source": [
        "d = {'train_simple_labels': all_training.iloc[0:4000,1].values.reshape(4000), 'mostly_blank_feature': np.array(mostly_blank_feature(all_training.iloc[0:4000,0].values))} \n",
        "df = pd.DataFrame(d)\n",
        "\n",
        "true_rows, false_rows, true_rows_index, false_rows_index = partition(list(df['mostly_blank_feature']), list(df['train_simple_labels']), 1)\n",
        "info_gain(false_rows, true_rows, gini(list(df['train_simple_labels'])))   # finding if the partition increases information. It (barely) does, \n",
        "                                                                          # so I will use this partition"
      ],
      "execution_count": 97,
      "outputs": [
        {
          "output_type": "execute_result",
          "data": {
            "text/plain": [
              "0.1090753572574053"
            ]
          },
          "metadata": {
            "tags": []
          },
          "execution_count": 97
        }
      ]
    },
    {
      "metadata": {
        "id": "W376I5cCMDQ6",
        "colab_type": "code",
        "colab": {}
      },
      "cell_type": "code",
      "source": [
        "def tree(eval_images, eval_simple_labels):       # Making tree function that takes Validation data and outputs accuracy\n",
        "  \n",
        "  mostly_blank_feature_list = mostly_blank_feature(eval_images)\n",
        "  true_rows, false_rows, true_rows_index, false_rows_index = partition(mostly_blank_feature_list, eval_simple_labels, 1)\n",
        "  \n",
        "  true_rows_guess = np.array([0] * len(true_rows))\n",
        "  false_rows_guess = np.array([1] * len(false_rows))\n",
        "    \n",
        "  correct = 0  \n",
        "  for i in range(len(true_rows)):\n",
        "    if(true_rows_guess[i] == true_rows[i]):\n",
        "      correct += 1\n",
        "  for h in range(len(false_rows)):\n",
        "    if(false_rows_guess[h] == false_rows[h]):\n",
        "      correct += 1\n",
        "    \n",
        "  return('accuracy: ' + str(correct/len(eval_simple_labels)))"
      ],
      "execution_count": 0,
      "outputs": []
    },
    {
      "metadata": {
        "id": "QK4R7jAcXK_-",
        "colab_type": "code",
        "colab": {
          "base_uri": "https://localhost:8080/",
          "height": 34
        },
        "outputId": "11c1f4c8-8255-41c7-908c-70c66b53287d"
      },
      "cell_type": "code",
      "source": [
        "tree(all_training.iloc[4000:5500, 0].values, all_training.iloc[4000:5500, 1].values) # Evaluating accuracy on validation data with known labels"
      ],
      "execution_count": 0,
      "outputs": [
        {
          "output_type": "execute_result",
          "data": {
            "text/plain": [
              "'accuracy: 0.724'"
            ]
          },
          "metadata": {
            "tags": []
          },
          "execution_count": 46
        }
      ]
    },
    {
      "metadata": {
        "id": "__heFUJZrwiJ",
        "colab_type": "code",
        "colab": {}
      },
      "cell_type": "code",
      "source": [
        "def partition_test(feature_list, feature_value): \n",
        "  \n",
        "  true_rows_index, false_rows_index = [], []      # New partition function without using labels (only using indexes to keep track of images because test labels are \n",
        "                                                  # not available)\n",
        "  for d in range(len(feature_list)):\n",
        "    if(feature_list[d] == feature_value):\n",
        "      true_rows_index.append(d)\n",
        "    else:\n",
        "      false_rows_index.append(d)\n",
        "\n",
        "  return true_rows_index, false_rows_index\n",
        "\n",
        "\n",
        "####### Look at the function below to see how I got the Pandas dataframe into the right format   #######\n",
        "\n",
        "def testing(test_images):   # Final function to output pandas df of ordered image indexes and their respective guesses\n",
        "  mostly_blank_feature_list = mostly_blank_feature(test_images)\n",
        "  true_rows_index, false_rows_index = partition_test(mostly_blank_feature_list, 1)\n",
        "  \n",
        "  true_rows_guess = np.array([0] * len(true_rows_index))\n",
        "  false_rows_guess = np.array([1] * len(false_rows_index))\n",
        "  \n",
        "  guesses = np.concatenate((true_rows_guess, false_rows_guess))\n",
        "  guesses_one_hot = np.eye(2)[guesses] # converting raw guesses (0 or one) to one hot vectors where 0 = [1, 0] and 1 = [0,1] \n",
        "  indexes = np.concatenate((np.array(true_rows_index), np.array(false_rows_index)))\n",
        "  \n",
        "  output = pd.DataFrame(data={'Guesses': guesses, 'Zero': guesses_one_hot[:,0], 'One': guesses_one_hot[:,1], 'Indexes': indexes}) # creating pandas dataframe of 3 comlumns \n",
        "                                                                                                                                  # (indices and probabilities for each class)\n",
        "  output = output.sort_values('Indexes') # sorting so that the column for image indexes are ordered from 0-499 and they stay with their respective Guesses\n",
        "  \n",
        "  output = output.reset_index(drop=True) # Reseting dataframe indices so that they are ordered 0-499\n",
        "  \n",
        "  output = output.drop('Indexes', axis = 1)  # Because df indices and images indices columns are now the same we can drop the indexes column\n",
        "  \n",
        "  cols = output.columns.tolist()   # Converting columns to lists so they can be reordered as \"Guest, Zero, One\"\n",
        "  \n",
        "  output = output[cols[:1] + cols[2:] + cols[1:2]]  # Reordering columns (you don't have to do this but I wanted to)\n",
        "  \n",
        "  output = pd.concat([output, pd.DataFrame(test_images_df.iloc[:, 1])], axis =1)\n",
        "  \n",
        "  return(output)\n"
      ],
      "execution_count": 0,
      "outputs": []
    },
    {
      "metadata": {
        "id": "epp8wL3Vu-vD",
        "colab_type": "code",
        "colab": {
          "base_uri": "https://localhost:8080/",
          "height": 222
        },
        "outputId": "d6e91150-2ea3-4405-a156-92ac32699420"
      },
      "cell_type": "code",
      "source": [
        "output = testing(test_images)\n",
        "pickle.dump(output, open('filename.p', 'wb')) # Creates pickle file in Google Colab but doesn't save to your machine\n",
        "files.download('filename.p') # Saving to pickle file to local drive (should be in Downloads). Send pickle file to beaverworksmedlytics@gmail.com\n",
        "output"
      ],
      "execution_count": 15,
      "outputs": [
        {
          "output_type": "error",
          "ename": "NameError",
          "evalue": "ignored",
          "traceback": [
            "\u001b[0;31m---------------------------------------------------------------------------\u001b[0m",
            "\u001b[0;31mNameError\u001b[0m                                 Traceback (most recent call last)",
            "\u001b[0;32m<ipython-input-15-6f7b8185db31>\u001b[0m in \u001b[0;36m<module>\u001b[0;34m()\u001b[0m\n\u001b[0;32m----> 1\u001b[0;31m \u001b[0moutput\u001b[0m \u001b[0;34m=\u001b[0m \u001b[0mtesting\u001b[0m\u001b[0;34m(\u001b[0m\u001b[0mtest_images\u001b[0m\u001b[0;34m)\u001b[0m\u001b[0;34m\u001b[0m\u001b[0m\n\u001b[0m\u001b[1;32m      2\u001b[0m \u001b[0mpickle\u001b[0m\u001b[0;34m.\u001b[0m\u001b[0mdump\u001b[0m\u001b[0;34m(\u001b[0m\u001b[0moutput\u001b[0m\u001b[0;34m,\u001b[0m \u001b[0mopen\u001b[0m\u001b[0;34m(\u001b[0m\u001b[0;34m'filename.p'\u001b[0m\u001b[0;34m,\u001b[0m \u001b[0;34m'wb'\u001b[0m\u001b[0;34m)\u001b[0m\u001b[0;34m)\u001b[0m \u001b[0;31m# Creates pickle file in Google Colab but doesn't save to your machine\u001b[0m\u001b[0;34m\u001b[0m\u001b[0m\n\u001b[1;32m      3\u001b[0m \u001b[0mfiles\u001b[0m\u001b[0;34m.\u001b[0m\u001b[0mdownload\u001b[0m\u001b[0;34m(\u001b[0m\u001b[0;34m'filename.p'\u001b[0m\u001b[0;34m)\u001b[0m \u001b[0;31m# Saving to pickle file to local drive (should be in Downloads). Send pickle file to beaverworksmedlytics@gmail.com\u001b[0m\u001b[0;34m\u001b[0m\u001b[0m\n\u001b[1;32m      4\u001b[0m \u001b[0moutput\u001b[0m\u001b[0;34m\u001b[0m\u001b[0m\n",
            "\u001b[0;31mNameError\u001b[0m: name 'testing' is not defined"
          ]
        }
      ]
    },
    {
      "metadata": {
        "id": "ultum1UWTdG7",
        "colab_type": "text"
      },
      "cell_type": "markdown",
      "source": [
        "# Submitting Your Model\n",
        "\n",
        "Once you have finished, run your classifier on the test images and make a pickle file containing a pandas dataframe. Exporting a pickle file to your local drive is demonstrated in the example classifier. \n",
        "\n",
        "* First, create a pandas dataframe with 4 columns (or 7 columns for complex lables). One column should contain your best guess at the class of the image and one column should contain the unique index for that image. The other columns should contain the probability that the image is classified in each class. **Make sure the unique indices on your dataframe match the unique indices of the images being predicted. The order of rows and columns do not matter, as long as there are 1500 rows and either 4 or 7 columns (depending on which classifier you have made)**. Run through the example classifier provided to see what the output pandas df looks like if you are confused.\n",
        " * If your classifier does not compute the probabilities for each class and simply labels with a 0 or 1 (or 0, 1, 2, 3, 4 for complex labels), the probability for whichever class is predicted is 1.00 and the probability for the other class(es) is(are) 0.00.\n",
        "* Then download the pandas dataframe as a pickle file using pickle.dump() and files.download().\n",
        "* Lastly, email the pickle file to beaverworksmedlytics@gmail.com to submit it for evaluation.\n",
        " * You can submit up to 3 times before your final evaluation\n",
        "\n",
        "Your model will be evaluated on Confusion Matrix Score, Area Under the ROC curve (ROCAUC), and creativity. There will be a \"winning\" group for each of these categories.\n"
      ]
    },
    {
      "metadata": {
        "id": "3S-gd_slKJLc",
        "colab_type": "text"
      },
      "cell_type": "markdown",
      "source": [
        "# How Your Model Will Be Evaluated\n",
        "\n",
        " \n",
        "* **Confusion Matrix Score**: You will receive a certain number of points for each correct classification and a certain point penalty for each incorrect classification. The point reward scheme is shown below for both binary and multiclass classifiers. This reward scheme punishes less crucial misclassifications (misclassifying a Negative scan as a Benign Calcification) much less than it punishes costly misclassifications (misclassifying a Malgnant Calcification as a Negative). In this way, our evaluation metric reflects the practical needs of the classifier in its application to real-world problems. It is our hope that you keep these differential punishments in mind when creating your classifiers. \n",
        "\n",
        "\n",
        "Truth_Col | 0 (Neg) | 1 (BC) | 2 (BM) | 3 (MC) | 4 (MM) |\n",
        "--- | ---\n",
        "0 (Neg) | +2 | -1 | -1 | -3 | -3 |\n",
        "1 (BC) | -2 | +2 | -1 | -3 |-3 |\n",
        "2 (BM)| -2 | -1 | +2 | -3 | -3 |\n",
        "3 (MC) | -6 | -4 | -4 | +2 | -2 | \n",
        "4 (MM) | -6 | -4 | -4 | -2 | +2 | \n",
        "\n",
        "\n",
        "Truth_Col | 0 (Neg) | 1 (Pos)\n",
        "--- | ---\n",
        "0 (Neg) | +2 | -3\n",
        "1 (Pos) |  -6 | +2\n",
        "\n",
        "\n",
        "\n",
        "* **Area Under ROC Curve:** The receiver operating characteristic (ROC) curve plots the true positive rate (sensitivity/recall) against the false positive rate (fall-out) at many decision threshold settings. The area under the curve (AUC) measures discrimination, the classifier's ability to correctly identify samples from the \"positive\" and \"negative\" cases. Intuitively, AUC is the probability that a randomly chosen \"positive\" sample will be labeled as \"more positive\" than a randomly chosen \"negative\" sample. In the case of a multi-class ROC curve, each class is considered separately before taking the weighted average of all the class results. Simply put, the class under consideration is labeled as \"positive\" while all other classes are labeled as \"negative.\" The AUCROC score should be between 0.5 and 1, in which 0.5 is random classification and 1 is perfect classification.\n",
        " * ![alt text](http://fastml.com/images/auc/roc_curve.png)\n",
        " * In the image above, the dashed line represents a classifier that classifies based purely on chance. The perfect classifier will have a line that passes through the top left corner of the graph (true positive rate = 1, false positive rate = 0) and will have a ROCAUC (ROC Area Under Curve) of 1. \n",
        " \n",
        "\n",
        " \n",
        " Using the test data, the example classifier above performs thus on these metrics:\n",
        "  * Confusion Matrix Score: 706\n",
        "  * ROCAUC: 0.737\n",
        "  * Creativity: ZERO!\n",
        "  \n",
        "  ![alt text](https://github.com/BeaverWorksMedlytics/Week3_public/blob/master/download111.png?raw=true)\n",
        "  \n",
        "   ### Below there is some pseudocode showing how we will calculate these three metrics when evaluating your classifier."
      ]
    },
    {
      "metadata": {
        "id": "O3HyjrjKoYBp",
        "colab_type": "code",
        "colab": {}
      },
      "cell_type": "code",
      "source": [
        "# Confusion Matrix Score for Binary Classifier\n",
        "\n",
        "binary_confmat_score = np.array([[2, -3],\n",
        "                                [-6, 2]])\n",
        "\n",
        "confmat = confusion_matrix(Ground_Truth_Labels, Predicted_Labels) # confusion_matrix is a function from sklearn.metrics and it automatically\n",
        "                                                                  # constructs a confusion matrix for any number of classes \n",
        "                                                                  # Documentation: http://scikit-learn.org/stable/modules/generated/sklearn.metrics.confusion_matrix.html\n",
        "  \n",
        "confmat_score = np.sum(confmat * binary_confmat_score)\n",
        "\n",
        "\n",
        "# Confusion Matrix Score for Multiclass Classifier\n",
        "\n",
        "multiclass_confmat_score = np.array([[2,-1,-1,-3,-3],\n",
        "                                    [-2,2,-1,-3,-3],\n",
        "                                    [-2,-1,2,-3,-3],\n",
        "                                    [-6,-4,-4,2,-2],\n",
        "                                    [-6,-4,-4,-2,2]])\n",
        "\n",
        "confmat = confusion_matrix(Ground_Truth_Labels, Predicted_Labels)\n",
        "  \n",
        "confmat_score = np.sum(confmat * binary_confmat_score)\n",
        "\n",
        "\n",
        "      \n",
        "# ROCAUC for Binary Classifier\n",
        "false_positive_rate, true_positive_rate, thresholds = metrics.roc_curve(Ground_Truth_Labels, Predicted_Labels, pos_label=1)\n",
        "roc_auc = metrics.auc(false_positive_rate, true_positive_rate)    # roc_curve() and auc() are also functions from sklearn.metrics. roc_curve calculates true and flase positive\n",
        "                                                                  # rates over many theshold values. pos_label = 1 specifies that in the labels a 1\n",
        "                                                                  # denotes a positive example (and anything less denotes a negative example). auc() simply calculates the AUC.\n",
        "                                                                  # Documentation:\n",
        "                                                                  # roc_curve(): http://scikit-learn.org/stable/modules/generated/sklearn.metrics.roc_curve.html\n",
        "                                                                  # auc(): http://scikit-learn.org/stable/modules/generated/sklearn.metrics.auc.html\n",
        "\n",
        "# ROCAUC for Multiclass Classifier\n",
        "  # ROCAUC for multiclass classifiers are calculated by treating each class as a binary classification (this class or all other classes) and micro-averaging \n",
        "  # each class's ROCAUC to get a total ROCAUC\n",
        "false_positive_rat = dict()\n",
        "true_positive_rate = dict()\n",
        "roc_auc = dict()\n",
        "for i in range(5):  # looping through each of 5 classes and getting false and true positive rates and calculating ROCAUC for each class\n",
        "  fales_positive_rate[i], true_positive_rate[i], _ = roc_curve(Ground_Truth_Labels_OneHot, Prediction_Probabilities) # Because labels are not binary, \n",
        "  roc_auc[i] = auc(false_positive_rate[i], true_positive_rate[i])                                                    # they need to be One Hot Vectors (ex. 2 = [0,0,1,0,0])\n",
        "                                                                                                                     # Prediction_Probabilities are the calculated probabilites\n",
        "                                                                                                                     # that the example belongs to each of the 5 classes\n",
        "false_positive_rate[\"micro\"], true_positive_rate[\"micro\"], _ = roc_curve(Ground_Truth_Labels_OneHot.ravel(), Prediction_Probabilities.ravel())\n",
        "roc_auc = auc(false_positive_rate[\"micro\"], true_positive_rate[\"micro\"]) # micro-averaging averages the ROCAUCs from each class weighted \n",
        "                                                                         # according to number of example in that class\n",
        "   "
      ],
      "execution_count": 0,
      "outputs": []
    },
    {
      "metadata": {
        "id": "mkJcTaUvc2uG",
        "colab_type": "text"
      },
      "cell_type": "markdown",
      "source": [
        "# Troubleshooting Colab\n",
        "\n",
        "- If you get an \"ResourcesExhausted\" error, this means you have used all the GPU resources dedicated to your session and you will need to restart your runtime (Runtime > Restart Runtime). After restarting your runtime your environment will be wiped so you will need to reload the data.\n",
        "\n",
        "- If you get a warning window that says you are close to reaching the session's memory limit, this means you are nearing a ResourcesExhausted error. You can still run code until the error occurs, but note that you will likely need to restart your runtime soon.\n",
        "\n",
        "- ResourcesExhausted errors will only occur if you're using GPU support.\n",
        "\n",
        "- Google Colab will end your runtime automatically after 24 hours\n",
        "\n",
        "- If things seem really slow, double check that you're using the GPU"
      ]
    }
  ]
}